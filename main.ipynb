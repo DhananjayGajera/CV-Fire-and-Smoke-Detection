{
 "cells": [
  {
   "cell_type": "code",
   "execution_count": null,
   "metadata": {
    "colab": {
     "base_uri": "https://localhost:8080/"
    },
    "executionInfo": {
     "elapsed": 21950,
     "status": "ok",
     "timestamp": 1740231121819,
     "user": {
      "displayName": "Rahul Gajera",
      "userId": "07555616146519075219"
     },
     "user_tz": -60
    },
    "id": "ZbvI8PkRn8Cw",
    "outputId": "915d2fc8-887d-445d-b60f-4ee400abb1c7"
   },
   "outputs": [
    {
     "name": "stdout",
     "output_type": "stream",
     "text": [
      "Mounted at /content/drive\n"
     ]
    }
   ],
   "source": [
    "# prompt: load drive\n",
    "\n",
    "from google.colab import drive\n",
    "drive.mount('/content/drive')\n"
   ]
  },
  {
   "cell_type": "code",
   "execution_count": null,
   "metadata": {
    "colab": {
     "base_uri": "https://localhost:8080/"
    },
    "executionInfo": {
     "elapsed": 2247,
     "status": "ok",
     "timestamp": 1740227767451,
     "user": {
      "displayName": "Rahul Gajera",
      "userId": "07555616146519075219"
     },
     "user_tz": -60
    },
    "id": "b7w_6H3FqCkD",
    "outputId": "d4703749-3622-42e3-e58a-56d1ca9c8e3e"
   },
   "outputs": [
    {
     "name": "stdout",
     "output_type": "stream",
     "text": [
      "Collecting xmltodict\n",
      "  Downloading xmltodict-0.14.2-py2.py3-none-any.whl.metadata (8.0 kB)\n",
      "Requirement already satisfied: opencv-python in /usr/local/lib/python3.11/dist-packages (4.11.0.86)\n",
      "Requirement already satisfied: matplotlib in /usr/local/lib/python3.11/dist-packages (3.10.0)\n",
      "Requirement already satisfied: numpy in /usr/local/lib/python3.11/dist-packages (1.26.4)\n",
      "Requirement already satisfied: contourpy>=1.0.1 in /usr/local/lib/python3.11/dist-packages (from matplotlib) (1.3.1)\n",
      "Requirement already satisfied: cycler>=0.10 in /usr/local/lib/python3.11/dist-packages (from matplotlib) (0.12.1)\n",
      "Requirement already satisfied: fonttools>=4.22.0 in /usr/local/lib/python3.11/dist-packages (from matplotlib) (4.56.0)\n",
      "Requirement already satisfied: kiwisolver>=1.3.1 in /usr/local/lib/python3.11/dist-packages (from matplotlib) (1.4.8)\n",
      "Requirement already satisfied: packaging>=20.0 in /usr/local/lib/python3.11/dist-packages (from matplotlib) (24.2)\n",
      "Requirement already satisfied: pillow>=8 in /usr/local/lib/python3.11/dist-packages (from matplotlib) (11.1.0)\n",
      "Requirement already satisfied: pyparsing>=2.3.1 in /usr/local/lib/python3.11/dist-packages (from matplotlib) (3.2.1)\n",
      "Requirement already satisfied: python-dateutil>=2.7 in /usr/local/lib/python3.11/dist-packages (from matplotlib) (2.8.2)\n",
      "Requirement already satisfied: six>=1.5 in /usr/local/lib/python3.11/dist-packages (from python-dateutil>=2.7->matplotlib) (1.17.0)\n",
      "Downloading xmltodict-0.14.2-py2.py3-none-any.whl (10.0 kB)\n",
      "Installing collected packages: xmltodict\n",
      "Successfully installed xmltodict-0.14.2\n"
     ]
    }
   ],
   "source": [
    "!pip install xmltodict opencv-python matplotlib numpy\n",
    "import os\n",
    "import cv2\n",
    "import xmltodict\n",
    "import matplotlib.pyplot as plt\n",
    "import numpy as np\n",
    "from google.colab import drive\n",
    "\n"
   ]
  },
  {
   "cell_type": "code",
   "execution_count": null,
   "metadata": {
    "id": "M0XCJbxbwvRJ"
   },
   "outputs": [],
   "source": [
    "import cv2\n",
    "import matplotlib.pyplot as plt\n",
    "import os\n",
    "\n",
    "# Paths\n",
    "image_folder = \"/content/drive/MyDrive/cv_fir_smk/images\"\n",
    "label_folder = \"/content/drive/MyDrive/cv_fir_smk/labels\"\n",
    "\n",
    "# Select a sample image\n",
    "image_name = \"Datacluster Fire and Smoke Sample (1).jpg\"\n",
    "image_path = os.path.join(image_folder, image_name)\n",
    "label_path = os.path.join(label_folder, image_name.replace(\".jpg\", \".txt\"))\n",
    "\n",
    "# Load image\n",
    "img = cv2.imread(image_path)\n",
    "img = cv2.cvtColor(img, cv2.COLOR_BGR2RGB)\n",
    "\n",
    "# Get image dimensions\n",
    "h, w, _ = img.shape\n"
   ]
  },
  {
   "cell_type": "code",
   "execution_count": null,
   "metadata": {
    "colab": {
     "base_uri": "https://localhost:8080/"
    },
    "executionInfo": {
     "elapsed": 3244,
     "status": "ok",
     "timestamp": 1740229708411,
     "user": {
      "displayName": "Rahul Gajera",
      "userId": "07555616146519075219"
     },
     "user_tz": -60
    },
    "id": "CnCbSXXpxTzp",
    "outputId": "d19e979c-c380-4482-cbd3-5d9cf836c27e"
   },
   "outputs": [],
   "source": [
    "import os\n",
    "import shutil\n",
    "import random\n",
    "\n",
    "# Define paths\n",
    "dataset_path = \"/content/drive/MyDrive/cv_fir_smk/dataset\"\n",
    "image_folder = \"/content/drive/MyDrive/cv_fir_smk/images\"\n",
    "label_folder = \"/content/drive/MyDrive/cv_fir_smk/labels\"\n",
    "\n",
    "train_img_dir = os.path.join(dataset_path, \"images/train\")\n",
    "val_img_dir = os.path.join(dataset_path, \"images/val\")\n",
    "train_lbl_dir = os.path.join(dataset_path, \"labels/train\")\n",
    "val_lbl_dir = os.path.join(dataset_path, \"labels/val\")\n",
    "\n",
    "# Create directories if they don't exist\n",
    "for path in [train_img_dir, val_img_dir, train_lbl_dir, val_lbl_dir]:\n",
    "    os.makedirs(path, exist_ok=True)\n",
    "\n",
    "# Get all image names\n",
    "all_images = [f for f in os.listdir(image_folder) if f.endswith(\".jpg\")]\n",
    "\n",
    "# Shuffle and split dataset (80% train, 20% val)\n",
    "random.shuffle(all_images)\n",
    "split_idx = int(0.8 * len(all_images))\n",
    "train_images = all_images[:split_idx]\n",
    "val_images = all_images[split_idx:]\n",
    "\n",
    "# Move files to respective folders\n",
    "for img_name in train_images:\n",
    "    shutil.copy(os.path.join(image_folder, img_name), train_img_dir)\n",
    "    shutil.copy(os.path.join(label_folder, img_name.replace(\".jpg\", \".txt\")), train_lbl_dir)\n",
    "\n",
    "for img_name in val_images:\n",
    "    shutil.copy(os.path.join(image_folder, img_name), val_img_dir)\n",
    "    shutil.copy(os.path.join(label_folder, img_name.replace(\".jpg\", \".txt\")), val_lbl_dir)\n",
    "\n",
    "print(\" Dataset organized successfully!\")\n"
   ]
  },
  {
   "cell_type": "code",
   "execution_count": null,
   "metadata": {
    "colab": {
     "base_uri": "https://localhost:8080/"
    },
    "executionInfo": {
     "elapsed": 48,
     "status": "ok",
     "timestamp": 1740229890596,
     "user": {
      "displayName": "Rahul Gajera",
      "userId": "07555616146519075219"
     },
     "user_tz": -60
    },
    "id": "CnnviWW2yCPC",
    "outputId": "a2b6b6f4-9bae-42c5-b541-46f036840986"
   },
   "outputs": [],
   "source": [
    "\n",
    "# Define dataset paths\n",
    "dataset_path = \"/content/drive/MyDrive/cv_fir_smk/dataset\"\n",
    "train_img_dir = os.path.join(dataset_path, \"images/train\")\n",
    "val_img_dir = os.path.join(dataset_path, \"images/val\")\n",
    "\n",
    "# Define the YAML content\n",
    "yaml_content = f\"\"\"\n",
    "train: {train_img_dir}\n",
    "val: {val_img_dir}\n",
    "\n",
    "nc: 2  # Number of classes (update if different)\n",
    "names: [\"fire\", \"smoke\"]\n",
    "\"\"\"\n",
    "\n",
    "# Save the YAML file\n",
    "yaml_path = os.path.join(dataset_path, \"data.yaml\")\n",
    "with open(yaml_path, \"w\") as f:\n",
    "    f.write(yaml_content)\n",
    "\n",
    "print(f\" data.yaml file created at: {yaml_path}\")\n"
   ]
  },
  {
   "cell_type": "code",
   "execution_count": null,
   "metadata": {
    "colab": {
     "base_uri": "https://localhost:8080/"
    },
    "executionInfo": {
     "elapsed": 108,
     "status": "ok",
     "timestamp": 1740229927705,
     "user": {
      "displayName": "Rahul Gajera",
      "userId": "07555616146519075219"
     },
     "user_tz": -60
    },
    "id": "0ZF1c9GuyQpY",
    "outputId": "e476151d-f15a-47e9-c9ee-72f7a982c432"
   },
   "outputs": [
    {
     "name": "stdout",
     "output_type": "stream",
     "text": [
      "\n",
      "train: /content/drive/MyDrive/cv_fir_smk/dataset/images/train\n",
      "val: /content/drive/MyDrive/cv_fir_smk/dataset/images/val\n",
      "\n",
      "nc: 2  # Number of classes (update if different)\n",
      "names: [\"fire\", \"smoke\"]\n"
     ]
    }
   ],
   "source": [
    "!cat /content/drive/MyDrive/cv_fir_smk/dataset/data.yaml\n"
   ]
  },
  {
   "cell_type": "code",
   "execution_count": null,
   "metadata": {
    "colab": {
     "base_uri": "https://localhost:8080/"
    },
    "collapsed": true,
    "executionInfo": {
     "elapsed": 278087,
     "status": "ok",
     "timestamp": 1740231609769,
     "user": {
      "displayName": "Rahul Gajera",
      "userId": "07555616146519075219"
     },
     "user_tz": -60
    },
    "id": "6qzzCxvq2cfj",
    "outputId": "8afe7876-24b7-4456-924e-97891e41023f"
   },
   "outputs": [
    {
     "name": "stdout",
     "output_type": "stream",
     "text": [
      "Using device: cuda\n",
      "Ultralytics 8.3.78 🚀 Python-3.11.11 torch-2.5.1+cu124 CUDA:0 (Tesla T4, 15095MiB)\n",
      "\u001b[34m\u001b[1mengine/trainer: \u001b[0mtask=detect, mode=train, model=yolov8m.pt, data=/content/drive/MyDrive/cv_fir_smk/dataset/data.yaml, epochs=10, time=None, patience=20, batch=16, imgsz=640, save=True, save_period=-1, cache=True, device=cuda, workers=4, project=None, name=train3, exist_ok=False, pretrained=True, optimizer=AdamW, verbose=True, seed=0, deterministic=True, single_cls=False, rect=False, cos_lr=False, close_mosaic=10, resume=False, amp=True, fraction=1.0, profile=False, freeze=None, multi_scale=False, overlap_mask=True, mask_ratio=4, dropout=0.0, val=True, split=val, save_json=False, save_hybrid=False, conf=None, iou=0.7, max_det=300, half=False, dnn=False, plots=True, source=None, vid_stride=1, stream_buffer=False, visualize=False, augment=False, agnostic_nms=False, classes=None, retina_masks=False, embed=None, show=False, save_frames=False, save_txt=False, save_conf=False, save_crop=False, show_labels=True, show_conf=True, show_boxes=True, line_width=None, format=torchscript, keras=False, optimize=False, int8=False, dynamic=False, simplify=True, opset=None, workspace=None, nms=False, lr0=0.001, lrf=0.1, momentum=0.9, weight_decay=0.0005, warmup_epochs=3.0, warmup_momentum=0.8, warmup_bias_lr=0.1, box=7.5, cls=0.5, dfl=1.5, pose=12.0, kobj=1.0, nbs=64, hsv_h=0.015, hsv_s=0.7, hsv_v=0.4, degrees=10, translate=0.1, scale=0.5, shear=10, perspective=0.0, flipud=0.0, fliplr=0.5, bgr=0.0, mosaic=1.0, mixup=0.0, copy_paste=0.0, copy_paste_mode=flip, auto_augment=randaugment, erasing=0.4, crop_fraction=1.0, cfg=None, tracker=botsort.yaml, save_dir=runs/detect/train3\n",
      "Overriding model.yaml nc=80 with nc=2\n",
      "\n",
      "                   from  n    params  module                                       arguments                     \n",
      "  0                  -1  1      1392  ultralytics.nn.modules.conv.Conv             [3, 48, 3, 2]                 \n",
      "  1                  -1  1     41664  ultralytics.nn.modules.conv.Conv             [48, 96, 3, 2]                \n",
      "  2                  -1  2    111360  ultralytics.nn.modules.block.C2f             [96, 96, 2, True]             \n",
      "  3                  -1  1    166272  ultralytics.nn.modules.conv.Conv             [96, 192, 3, 2]               \n",
      "  4                  -1  4    813312  ultralytics.nn.modules.block.C2f             [192, 192, 4, True]           \n",
      "  5                  -1  1    664320  ultralytics.nn.modules.conv.Conv             [192, 384, 3, 2]              \n",
      "  6                  -1  4   3248640  ultralytics.nn.modules.block.C2f             [384, 384, 4, True]           \n",
      "  7                  -1  1   1991808  ultralytics.nn.modules.conv.Conv             [384, 576, 3, 2]              \n",
      "  8                  -1  2   3985920  ultralytics.nn.modules.block.C2f             [576, 576, 2, True]           \n",
      "  9                  -1  1    831168  ultralytics.nn.modules.block.SPPF            [576, 576, 5]                 \n",
      " 10                  -1  1         0  torch.nn.modules.upsampling.Upsample         [None, 2, 'nearest']          \n",
      " 11             [-1, 6]  1         0  ultralytics.nn.modules.conv.Concat           [1]                           \n",
      " 12                  -1  2   1993728  ultralytics.nn.modules.block.C2f             [960, 384, 2]                 \n",
      " 13                  -1  1         0  torch.nn.modules.upsampling.Upsample         [None, 2, 'nearest']          \n",
      " 14             [-1, 4]  1         0  ultralytics.nn.modules.conv.Concat           [1]                           \n",
      " 15                  -1  2    517632  ultralytics.nn.modules.block.C2f             [576, 192, 2]                 \n",
      " 16                  -1  1    332160  ultralytics.nn.modules.conv.Conv             [192, 192, 3, 2]              \n",
      " 17            [-1, 12]  1         0  ultralytics.nn.modules.conv.Concat           [1]                           \n",
      " 18                  -1  2   1846272  ultralytics.nn.modules.block.C2f             [576, 384, 2]                 \n",
      " 19                  -1  1   1327872  ultralytics.nn.modules.conv.Conv             [384, 384, 3, 2]              \n",
      " 20             [-1, 9]  1         0  ultralytics.nn.modules.conv.Concat           [1]                           \n",
      " 21                  -1  2   4207104  ultralytics.nn.modules.block.C2f             [960, 576, 2]                 \n",
      " 22        [15, 18, 21]  1   3776854  ultralytics.nn.modules.head.Detect           [2, [192, 384, 576]]          \n",
      "Model summary: 169 layers, 25,857,478 parameters, 25,857,462 gradients, 79.1 GFLOPs\n",
      "\n",
      "Transferred 469/475 items from pretrained weights\n",
      "\u001b[34m\u001b[1mTensorBoard: \u001b[0mStart with 'tensorboard --logdir runs/detect/train3', view at http://localhost:6006/\n",
      "Freezing layer 'model.22.dfl.conv.weight'\n",
      "\u001b[34m\u001b[1mAMP: \u001b[0mrunning Automatic Mixed Precision (AMP) checks...\n",
      "\u001b[34m\u001b[1mAMP: \u001b[0mchecks passed ✅\n"
     ]
    },
    {
     "name": "stderr",
     "output_type": "stream",
     "text": [
      "\u001b[34m\u001b[1mtrain: \u001b[0mScanning /content/drive/MyDrive/cv_fir_smk/dataset/labels/train... 80 images, 0 backgrounds, 0 corrupt: 100%|██████████| 80/80 [02:27<00:00,  1.85s/it]"
     ]
    },
    {
     "name": "stdout",
     "output_type": "stream",
     "text": [
      "\u001b[34m\u001b[1mtrain: \u001b[0mWARNING ⚠️ /content/drive/MyDrive/cv_fir_smk/dataset/images/train/Datacluster Fire and Smoke Sample (22).jpg: corrupt JPEG restored and saved\n",
      "\u001b[34m\u001b[1mtrain: \u001b[0mWARNING ⚠️ /content/drive/MyDrive/cv_fir_smk/dataset/images/train/Datacluster Fire and Smoke Sample (23).jpg: corrupt JPEG restored and saved\n",
      "\u001b[34m\u001b[1mtrain: \u001b[0mWARNING ⚠️ /content/drive/MyDrive/cv_fir_smk/dataset/images/train/Datacluster Fire and Smoke Sample (26).jpg: corrupt JPEG restored and saved\n",
      "\u001b[34m\u001b[1mtrain: \u001b[0mWARNING ⚠️ /content/drive/MyDrive/cv_fir_smk/dataset/images/train/Datacluster Fire and Smoke Sample (29).jpg: corrupt JPEG restored and saved\n",
      "\u001b[34m\u001b[1mtrain: \u001b[0mWARNING ⚠️ /content/drive/MyDrive/cv_fir_smk/dataset/images/train/Datacluster Fire and Smoke Sample (31).jpg: corrupt JPEG restored and saved\n",
      "\u001b[34m\u001b[1mtrain: \u001b[0mWARNING ⚠️ /content/drive/MyDrive/cv_fir_smk/dataset/images/train/Datacluster Fire and Smoke Sample (32).jpg: corrupt JPEG restored and saved\n",
      "\u001b[34m\u001b[1mtrain: \u001b[0mWARNING ⚠️ /content/drive/MyDrive/cv_fir_smk/dataset/images/train/Datacluster Fire and Smoke Sample (40).jpg: corrupt JPEG restored and saved\n",
      "\u001b[34m\u001b[1mtrain: \u001b[0mWARNING ⚠️ /content/drive/MyDrive/cv_fir_smk/dataset/images/train/Datacluster Fire and Smoke Sample (41).jpg: corrupt JPEG restored and saved\n",
      "\u001b[34m\u001b[1mtrain: \u001b[0mWARNING ⚠️ /content/drive/MyDrive/cv_fir_smk/dataset/images/train/Datacluster Fire and Smoke Sample (42).jpg: corrupt JPEG restored and saved\n",
      "\u001b[34m\u001b[1mtrain: \u001b[0mWARNING ⚠️ /content/drive/MyDrive/cv_fir_smk/dataset/images/train/Datacluster Fire and Smoke Sample (43).jpg: corrupt JPEG restored and saved\n",
      "\u001b[34m\u001b[1mtrain: \u001b[0mWARNING ⚠️ /content/drive/MyDrive/cv_fir_smk/dataset/images/train/Datacluster Fire and Smoke Sample (44).jpg: corrupt JPEG restored and saved\n",
      "\u001b[34m\u001b[1mtrain: \u001b[0mWARNING ⚠️ /content/drive/MyDrive/cv_fir_smk/dataset/images/train/Datacluster Fire and Smoke Sample (45).jpg: corrupt JPEG restored and saved\n",
      "\u001b[34m\u001b[1mtrain: \u001b[0mWARNING ⚠️ /content/drive/MyDrive/cv_fir_smk/dataset/images/train/Datacluster Fire and Smoke Sample (47).jpg: corrupt JPEG restored and saved\n",
      "\u001b[34m\u001b[1mtrain: \u001b[0mWARNING ⚠️ /content/drive/MyDrive/cv_fir_smk/dataset/images/train/Datacluster Fire and Smoke Sample (53).jpg: corrupt JPEG restored and saved\n",
      "\u001b[34m\u001b[1mtrain: \u001b[0mNew cache created: /content/drive/MyDrive/cv_fir_smk/dataset/labels/train.cache\n"
     ]
    },
    {
     "name": "stderr",
     "output_type": "stream",
     "text": [
      "\n"
     ]
    },
    {
     "name": "stdout",
     "output_type": "stream",
     "text": [
      "WARNING ⚠️ cache='ram' may produce non-deterministic training results. Consider cache='disk' as a deterministic alternative if your disk space allows.\n"
     ]
    },
    {
     "name": "stderr",
     "output_type": "stream",
     "text": [
      "\u001b[34m\u001b[1mtrain: \u001b[0mCaching images (0.1GB RAM): 100%|██████████| 80/80 [00:09<00:00,  8.56it/s]\n"
     ]
    },
    {
     "name": "stdout",
     "output_type": "stream",
     "text": [
      "\u001b[34m\u001b[1malbumentations: \u001b[0mBlur(p=0.01, blur_limit=(3, 7)), MedianBlur(p=0.01, blur_limit=(3, 7)), ToGray(p=0.01, num_output_channels=3, method='weighted_average'), CLAHE(p=0.01, clip_limit=(1.0, 4.0), tile_grid_size=(8, 8))\n"
     ]
    },
    {
     "name": "stderr",
     "output_type": "stream",
     "text": [
      "\u001b[34m\u001b[1mval: \u001b[0mScanning /content/drive/MyDrive/cv_fir_smk/dataset/labels/val... 20 images, 1 backgrounds, 0 corrupt: 100%|██████████| 20/20 [00:43<00:00,  2.18s/it]"
     ]
    },
    {
     "name": "stdout",
     "output_type": "stream",
     "text": [
      "\u001b[34m\u001b[1mval: \u001b[0mWARNING ⚠️ /content/drive/MyDrive/cv_fir_smk/dataset/images/val/Datacluster Fire and Smoke Sample (24).jpg: corrupt JPEG restored and saved\n",
      "\u001b[34m\u001b[1mval: \u001b[0mWARNING ⚠️ /content/drive/MyDrive/cv_fir_smk/dataset/images/val/Datacluster Fire and Smoke Sample (54).jpg: corrupt JPEG restored and saved\n",
      "\u001b[34m\u001b[1mval: \u001b[0mWARNING ⚠️ /content/drive/MyDrive/cv_fir_smk/dataset/images/val/Datacluster Fire and Smoke Sample (55).jpg: corrupt JPEG restored and saved\n",
      "\u001b[34m\u001b[1mval: \u001b[0mNew cache created: /content/drive/MyDrive/cv_fir_smk/dataset/labels/val.cache\n"
     ]
    },
    {
     "name": "stderr",
     "output_type": "stream",
     "text": [
      "\n"
     ]
    },
    {
     "name": "stdout",
     "output_type": "stream",
     "text": [
      "WARNING ⚠️ cache='ram' may produce non-deterministic training results. Consider cache='disk' as a deterministic alternative if your disk space allows.\n"
     ]
    },
    {
     "name": "stderr",
     "output_type": "stream",
     "text": [
      "\u001b[34m\u001b[1mval: \u001b[0mCaching images (0.0GB RAM): 100%|██████████| 20/20 [00:02<00:00,  8.01it/s]\n"
     ]
    },
    {
     "name": "stdout",
     "output_type": "stream",
     "text": [
      "Plotting labels to runs/detect/train3/labels.jpg... \n",
      "\u001b[34m\u001b[1moptimizer:\u001b[0m AdamW(lr=0.001, momentum=0.9) with parameter groups 77 weight(decay=0.0), 84 weight(decay=0.0005), 83 bias(decay=0.0)\n",
      "\u001b[34m\u001b[1mTensorBoard: \u001b[0mmodel graph visualization added ✅\n",
      "Image sizes 640 train, 640 val\n",
      "Using 2 dataloader workers\n",
      "Logging results to \u001b[1mruns/detect/train3\u001b[0m\n",
      "Starting training for 10 epochs...\n",
      "Closing dataloader mosaic\n",
      "\u001b[34m\u001b[1malbumentations: \u001b[0mBlur(p=0.01, blur_limit=(3, 7)), MedianBlur(p=0.01, blur_limit=(3, 7)), ToGray(p=0.01, num_output_channels=3, method='weighted_average'), CLAHE(p=0.01, clip_limit=(1.0, 4.0), tile_grid_size=(8, 8))\n",
      "\n",
      "      Epoch    GPU_mem   box_loss   cls_loss   dfl_loss  Instances       Size\n"
     ]
    },
    {
     "name": "stderr",
     "output_type": "stream",
     "text": [
      "       1/10      6.41G       2.25      6.408      2.317         21        640: 100%|██████████| 5/5 [00:04<00:00,  1.13it/s]\n",
      "                 Class     Images  Instances      Box(P          R      mAP50  mAP50-95): 100%|██████████| 1/1 [00:02<00:00,  2.23s/it]"
     ]
    },
    {
     "name": "stdout",
     "output_type": "stream",
     "text": [
      "                   all         20         23     0.0186     0.0435     0.0094     0.0046\n"
     ]
    },
    {
     "name": "stderr",
     "output_type": "stream",
     "text": [
      "\n"
     ]
    },
    {
     "name": "stdout",
     "output_type": "stream",
     "text": [
      "\n",
      "      Epoch    GPU_mem   box_loss   cls_loss   dfl_loss  Instances       Size\n"
     ]
    },
    {
     "name": "stderr",
     "output_type": "stream",
     "text": [
      "       2/10      6.17G      2.381      5.469      2.457         17        640: 100%|██████████| 5/5 [00:02<00:00,  1.82it/s]\n",
      "                 Class     Images  Instances      Box(P          R      mAP50  mAP50-95): 100%|██████████| 1/1 [00:00<00:00,  2.66it/s]"
     ]
    },
    {
     "name": "stdout",
     "output_type": "stream",
     "text": [
      "                   all         20         23      0.109       0.13     0.0941     0.0251\n"
     ]
    },
    {
     "name": "stderr",
     "output_type": "stream",
     "text": [
      "\n"
     ]
    },
    {
     "name": "stdout",
     "output_type": "stream",
     "text": [
      "\n",
      "      Epoch    GPU_mem   box_loss   cls_loss   dfl_loss  Instances       Size\n"
     ]
    },
    {
     "name": "stderr",
     "output_type": "stream",
     "text": [
      "       3/10      6.35G      1.888      2.501      2.057         20        640: 100%|██████████| 5/5 [00:02<00:00,  1.90it/s]\n",
      "                 Class     Images  Instances      Box(P          R      mAP50  mAP50-95): 100%|██████████| 1/1 [00:00<00:00,  3.55it/s]"
     ]
    },
    {
     "name": "stdout",
     "output_type": "stream",
     "text": [
      "                   all         20         23      0.803       0.13      0.172     0.0519\n"
     ]
    },
    {
     "name": "stderr",
     "output_type": "stream",
     "text": [
      "\n"
     ]
    },
    {
     "name": "stdout",
     "output_type": "stream",
     "text": [
      "\n",
      "      Epoch    GPU_mem   box_loss   cls_loss   dfl_loss  Instances       Size\n"
     ]
    },
    {
     "name": "stderr",
     "output_type": "stream",
     "text": [
      "       4/10      6.36G      1.807      2.048       2.07         17        640: 100%|██████████| 5/5 [00:02<00:00,  1.80it/s]\n",
      "                 Class     Images  Instances      Box(P          R      mAP50  mAP50-95): 100%|██████████| 1/1 [00:00<00:00,  3.71it/s]"
     ]
    },
    {
     "name": "stdout",
     "output_type": "stream",
     "text": [
      "                   all         20         23     0.0539      0.348     0.0308      0.011\n"
     ]
    },
    {
     "name": "stderr",
     "output_type": "stream",
     "text": [
      "\n"
     ]
    },
    {
     "name": "stdout",
     "output_type": "stream",
     "text": [
      "\n",
      "      Epoch    GPU_mem   box_loss   cls_loss   dfl_loss  Instances       Size\n"
     ]
    },
    {
     "name": "stderr",
     "output_type": "stream",
     "text": [
      "       5/10      6.45G      1.635      1.938      1.837         19        640: 100%|██████████| 5/5 [00:02<00:00,  1.94it/s]\n",
      "                 Class     Images  Instances      Box(P          R      mAP50  mAP50-95): 100%|██████████| 1/1 [00:00<00:00,  3.67it/s]"
     ]
    },
    {
     "name": "stdout",
     "output_type": "stream",
     "text": [
      "                   all         20         23      0.094      0.391     0.0869     0.0253\n"
     ]
    },
    {
     "name": "stderr",
     "output_type": "stream",
     "text": [
      "\n"
     ]
    },
    {
     "name": "stdout",
     "output_type": "stream",
     "text": [
      "\n",
      "      Epoch    GPU_mem   box_loss   cls_loss   dfl_loss  Instances       Size\n"
     ]
    },
    {
     "name": "stderr",
     "output_type": "stream",
     "text": [
      "       6/10      6.36G      1.676      1.613      1.882         24        640: 100%|██████████| 5/5 [00:02<00:00,  1.95it/s]\n",
      "                 Class     Images  Instances      Box(P          R      mAP50  mAP50-95): 100%|██████████| 1/1 [00:00<00:00,  3.59it/s]"
     ]
    },
    {
     "name": "stdout",
     "output_type": "stream",
     "text": [
      "                   all         20         23      0.153      0.087     0.0549     0.0229\n"
     ]
    },
    {
     "name": "stderr",
     "output_type": "stream",
     "text": [
      "\n"
     ]
    },
    {
     "name": "stdout",
     "output_type": "stream",
     "text": [
      "\n",
      "      Epoch    GPU_mem   box_loss   cls_loss   dfl_loss  Instances       Size\n"
     ]
    },
    {
     "name": "stderr",
     "output_type": "stream",
     "text": [
      "       7/10      6.45G      1.526      1.607      1.637         19        640: 100%|██████████| 5/5 [00:02<00:00,  1.77it/s]\n",
      "                 Class     Images  Instances      Box(P          R      mAP50  mAP50-95): 100%|██████████| 1/1 [00:00<00:00,  3.20it/s]"
     ]
    },
    {
     "name": "stdout",
     "output_type": "stream",
     "text": [
      "                   all         20         23      0.364      0.275      0.252     0.0709\n"
     ]
    },
    {
     "name": "stderr",
     "output_type": "stream",
     "text": [
      "\n"
     ]
    },
    {
     "name": "stdout",
     "output_type": "stream",
     "text": [
      "\n",
      "      Epoch    GPU_mem   box_loss   cls_loss   dfl_loss  Instances       Size\n"
     ]
    },
    {
     "name": "stderr",
     "output_type": "stream",
     "text": [
      "       8/10      6.35G      1.475      1.295      1.622         16        640: 100%|██████████| 5/5 [00:02<00:00,  1.87it/s]\n",
      "                 Class     Images  Instances      Box(P          R      mAP50  mAP50-95): 100%|██████████| 1/1 [00:00<00:00,  3.68it/s]"
     ]
    },
    {
     "name": "stdout",
     "output_type": "stream",
     "text": [
      "                   all         20         23      0.365      0.304      0.262      0.111\n"
     ]
    },
    {
     "name": "stderr",
     "output_type": "stream",
     "text": [
      "\n"
     ]
    },
    {
     "name": "stdout",
     "output_type": "stream",
     "text": [
      "\n",
      "      Epoch    GPU_mem   box_loss   cls_loss   dfl_loss  Instances       Size\n"
     ]
    },
    {
     "name": "stderr",
     "output_type": "stream",
     "text": [
      "       9/10      6.46G      1.532      1.308      1.645         21        640: 100%|██████████| 5/5 [00:02<00:00,  1.91it/s]\n",
      "                 Class     Images  Instances      Box(P          R      mAP50  mAP50-95): 100%|██████████| 1/1 [00:00<00:00,  3.67it/s]"
     ]
    },
    {
     "name": "stdout",
     "output_type": "stream",
     "text": [
      "                   all         20         23      0.552      0.348      0.375      0.167\n"
     ]
    },
    {
     "name": "stderr",
     "output_type": "stream",
     "text": [
      "\n"
     ]
    },
    {
     "name": "stdout",
     "output_type": "stream",
     "text": [
      "\n",
      "      Epoch    GPU_mem   box_loss   cls_loss   dfl_loss  Instances       Size\n"
     ]
    },
    {
     "name": "stderr",
     "output_type": "stream",
     "text": [
      "      10/10      6.35G       1.38      1.103      1.525         21        640: 100%|██████████| 5/5 [00:02<00:00,  1.77it/s]\n",
      "                 Class     Images  Instances      Box(P          R      mAP50  mAP50-95): 100%|██████████| 1/1 [00:00<00:00,  3.21it/s]"
     ]
    },
    {
     "name": "stdout",
     "output_type": "stream",
     "text": [
      "                   all         20         23      0.836      0.444       0.52      0.252\n"
     ]
    },
    {
     "name": "stderr",
     "output_type": "stream",
     "text": [
      "\n"
     ]
    },
    {
     "name": "stdout",
     "output_type": "stream",
     "text": [
      "\n",
      "10 epochs completed in 0.015 hours.\n",
      "Optimizer stripped from runs/detect/train3/weights/last.pt, 52.0MB\n",
      "Optimizer stripped from runs/detect/train3/weights/best.pt, 52.0MB\n",
      "\n",
      "Validating runs/detect/train3/weights/best.pt...\n",
      "Ultralytics 8.3.78 🚀 Python-3.11.11 torch-2.5.1+cu124 CUDA:0 (Tesla T4, 15095MiB)\n",
      "Model summary (fused): 92 layers, 25,840,918 parameters, 0 gradients, 78.7 GFLOPs\n"
     ]
    },
    {
     "name": "stderr",
     "output_type": "stream",
     "text": [
      "                 Class     Images  Instances      Box(P          R      mAP50  mAP50-95): 100%|██████████| 1/1 [00:00<00:00,  3.27it/s]\n"
     ]
    },
    {
     "name": "stdout",
     "output_type": "stream",
     "text": [
      "                   all         20         23      0.799      0.478       0.52      0.252\n",
      "                  fire         19         23      0.799      0.478       0.52      0.252\n",
      "Speed: 0.2ms preprocess, 10.0ms inference, 0.0ms loss, 1.1ms postprocess per image\n",
      "Results saved to \u001b[1mruns/detect/train3\u001b[0m\n"
     ]
    },
    {
     "data": {
      "text/plain": [
       "ultralytics.utils.metrics.DetMetrics object with attributes:\n",
       "\n",
       "ap_class_index: array([0])\n",
       "box: ultralytics.utils.metrics.Metric object\n",
       "confusion_matrix: <ultralytics.utils.metrics.ConfusionMatrix object at 0x7daddd36b6d0>\n",
       "curves: ['Precision-Recall(B)', 'F1-Confidence(B)', 'Precision-Confidence(B)', 'Recall-Confidence(B)']\n",
       "curves_results: [[array([          0,    0.001001,    0.002002,    0.003003,    0.004004,    0.005005,    0.006006,    0.007007,    0.008008,    0.009009,     0.01001,    0.011011,    0.012012,    0.013013,    0.014014,    0.015015,    0.016016,    0.017017,    0.018018,    0.019019,     0.02002,    0.021021,    0.022022,    0.023023,\n",
       "          0.024024,    0.025025,    0.026026,    0.027027,    0.028028,    0.029029,     0.03003,    0.031031,    0.032032,    0.033033,    0.034034,    0.035035,    0.036036,    0.037037,    0.038038,    0.039039,     0.04004,    0.041041,    0.042042,    0.043043,    0.044044,    0.045045,    0.046046,    0.047047,\n",
       "          0.048048,    0.049049,     0.05005,    0.051051,    0.052052,    0.053053,    0.054054,    0.055055,    0.056056,    0.057057,    0.058058,    0.059059,     0.06006,    0.061061,    0.062062,    0.063063,    0.064064,    0.065065,    0.066066,    0.067067,    0.068068,    0.069069,     0.07007,    0.071071,\n",
       "          0.072072,    0.073073,    0.074074,    0.075075,    0.076076,    0.077077,    0.078078,    0.079079,     0.08008,    0.081081,    0.082082,    0.083083,    0.084084,    0.085085,    0.086086,    0.087087,    0.088088,    0.089089,     0.09009,    0.091091,    0.092092,    0.093093,    0.094094,    0.095095,\n",
       "          0.096096,    0.097097,    0.098098,    0.099099,      0.1001,      0.1011,      0.1021,      0.1031,      0.1041,     0.10511,     0.10611,     0.10711,     0.10811,     0.10911,     0.11011,     0.11111,     0.11211,     0.11311,     0.11411,     0.11512,     0.11612,     0.11712,     0.11812,     0.11912,\n",
       "           0.12012,     0.12112,     0.12212,     0.12312,     0.12412,     0.12513,     0.12613,     0.12713,     0.12813,     0.12913,     0.13013,     0.13113,     0.13213,     0.13313,     0.13413,     0.13514,     0.13614,     0.13714,     0.13814,     0.13914,     0.14014,     0.14114,     0.14214,     0.14314,\n",
       "           0.14414,     0.14515,     0.14615,     0.14715,     0.14815,     0.14915,     0.15015,     0.15115,     0.15215,     0.15315,     0.15415,     0.15516,     0.15616,     0.15716,     0.15816,     0.15916,     0.16016,     0.16116,     0.16216,     0.16316,     0.16416,     0.16517,     0.16617,     0.16717,\n",
       "           0.16817,     0.16917,     0.17017,     0.17117,     0.17217,     0.17317,     0.17417,     0.17518,     0.17618,     0.17718,     0.17818,     0.17918,     0.18018,     0.18118,     0.18218,     0.18318,     0.18418,     0.18519,     0.18619,     0.18719,     0.18819,     0.18919,     0.19019,     0.19119,\n",
       "           0.19219,     0.19319,     0.19419,      0.1952,      0.1962,      0.1972,      0.1982,      0.1992,      0.2002,      0.2012,      0.2022,      0.2032,      0.2042,     0.20521,     0.20621,     0.20721,     0.20821,     0.20921,     0.21021,     0.21121,     0.21221,     0.21321,     0.21421,     0.21522,\n",
       "           0.21622,     0.21722,     0.21822,     0.21922,     0.22022,     0.22122,     0.22222,     0.22322,     0.22422,     0.22523,     0.22623,     0.22723,     0.22823,     0.22923,     0.23023,     0.23123,     0.23223,     0.23323,     0.23423,     0.23524,     0.23624,     0.23724,     0.23824,     0.23924,\n",
       "           0.24024,     0.24124,     0.24224,     0.24324,     0.24424,     0.24525,     0.24625,     0.24725,     0.24825,     0.24925,     0.25025,     0.25125,     0.25225,     0.25325,     0.25425,     0.25526,     0.25626,     0.25726,     0.25826,     0.25926,     0.26026,     0.26126,     0.26226,     0.26326,\n",
       "           0.26426,     0.26527,     0.26627,     0.26727,     0.26827,     0.26927,     0.27027,     0.27127,     0.27227,     0.27327,     0.27427,     0.27528,     0.27628,     0.27728,     0.27828,     0.27928,     0.28028,     0.28128,     0.28228,     0.28328,     0.28428,     0.28529,     0.28629,     0.28729,\n",
       "           0.28829,     0.28929,     0.29029,     0.29129,     0.29229,     0.29329,     0.29429,      0.2953,      0.2963,      0.2973,      0.2983,      0.2993,      0.3003,      0.3013,      0.3023,      0.3033,      0.3043,     0.30531,     0.30631,     0.30731,     0.30831,     0.30931,     0.31031,     0.31131,\n",
       "           0.31231,     0.31331,     0.31431,     0.31532,     0.31632,     0.31732,     0.31832,     0.31932,     0.32032,     0.32132,     0.32232,     0.32332,     0.32432,     0.32533,     0.32633,     0.32733,     0.32833,     0.32933,     0.33033,     0.33133,     0.33233,     0.33333,     0.33433,     0.33534,\n",
       "           0.33634,     0.33734,     0.33834,     0.33934,     0.34034,     0.34134,     0.34234,     0.34334,     0.34434,     0.34535,     0.34635,     0.34735,     0.34835,     0.34935,     0.35035,     0.35135,     0.35235,     0.35335,     0.35435,     0.35536,     0.35636,     0.35736,     0.35836,     0.35936,\n",
       "           0.36036,     0.36136,     0.36236,     0.36336,     0.36436,     0.36537,     0.36637,     0.36737,     0.36837,     0.36937,     0.37037,     0.37137,     0.37237,     0.37337,     0.37437,     0.37538,     0.37638,     0.37738,     0.37838,     0.37938,     0.38038,     0.38138,     0.38238,     0.38338,\n",
       "           0.38438,     0.38539,     0.38639,     0.38739,     0.38839,     0.38939,     0.39039,     0.39139,     0.39239,     0.39339,     0.39439,      0.3954,      0.3964,      0.3974,      0.3984,      0.3994,      0.4004,      0.4014,      0.4024,      0.4034,      0.4044,     0.40541,     0.40641,     0.40741,\n",
       "           0.40841,     0.40941,     0.41041,     0.41141,     0.41241,     0.41341,     0.41441,     0.41542,     0.41642,     0.41742,     0.41842,     0.41942,     0.42042,     0.42142,     0.42242,     0.42342,     0.42442,     0.42543,     0.42643,     0.42743,     0.42843,     0.42943,     0.43043,     0.43143,\n",
       "           0.43243,     0.43343,     0.43443,     0.43544,     0.43644,     0.43744,     0.43844,     0.43944,     0.44044,     0.44144,     0.44244,     0.44344,     0.44444,     0.44545,     0.44645,     0.44745,     0.44845,     0.44945,     0.45045,     0.45145,     0.45245,     0.45345,     0.45445,     0.45546,\n",
       "           0.45646,     0.45746,     0.45846,     0.45946,     0.46046,     0.46146,     0.46246,     0.46346,     0.46446,     0.46547,     0.46647,     0.46747,     0.46847,     0.46947,     0.47047,     0.47147,     0.47247,     0.47347,     0.47447,     0.47548,     0.47648,     0.47748,     0.47848,     0.47948,\n",
       "           0.48048,     0.48148,     0.48248,     0.48348,     0.48448,     0.48549,     0.48649,     0.48749,     0.48849,     0.48949,     0.49049,     0.49149,     0.49249,     0.49349,     0.49449,      0.4955,      0.4965,      0.4975,      0.4985,      0.4995,      0.5005,      0.5015,      0.5025,      0.5035,\n",
       "            0.5045,     0.50551,     0.50651,     0.50751,     0.50851,     0.50951,     0.51051,     0.51151,     0.51251,     0.51351,     0.51451,     0.51552,     0.51652,     0.51752,     0.51852,     0.51952,     0.52052,     0.52152,     0.52252,     0.52352,     0.52452,     0.52553,     0.52653,     0.52753,\n",
       "           0.52853,     0.52953,     0.53053,     0.53153,     0.53253,     0.53353,     0.53453,     0.53554,     0.53654,     0.53754,     0.53854,     0.53954,     0.54054,     0.54154,     0.54254,     0.54354,     0.54454,     0.54555,     0.54655,     0.54755,     0.54855,     0.54955,     0.55055,     0.55155,\n",
       "           0.55255,     0.55355,     0.55455,     0.55556,     0.55656,     0.55756,     0.55856,     0.55956,     0.56056,     0.56156,     0.56256,     0.56356,     0.56456,     0.56557,     0.56657,     0.56757,     0.56857,     0.56957,     0.57057,     0.57157,     0.57257,     0.57357,     0.57457,     0.57558,\n",
       "           0.57658,     0.57758,     0.57858,     0.57958,     0.58058,     0.58158,     0.58258,     0.58358,     0.58458,     0.58559,     0.58659,     0.58759,     0.58859,     0.58959,     0.59059,     0.59159,     0.59259,     0.59359,     0.59459,      0.5956,      0.5966,      0.5976,      0.5986,      0.5996,\n",
       "            0.6006,      0.6016,      0.6026,      0.6036,      0.6046,     0.60561,     0.60661,     0.60761,     0.60861,     0.60961,     0.61061,     0.61161,     0.61261,     0.61361,     0.61461,     0.61562,     0.61662,     0.61762,     0.61862,     0.61962,     0.62062,     0.62162,     0.62262,     0.62362,\n",
       "           0.62462,     0.62563,     0.62663,     0.62763,     0.62863,     0.62963,     0.63063,     0.63163,     0.63263,     0.63363,     0.63463,     0.63564,     0.63664,     0.63764,     0.63864,     0.63964,     0.64064,     0.64164,     0.64264,     0.64364,     0.64464,     0.64565,     0.64665,     0.64765,\n",
       "           0.64865,     0.64965,     0.65065,     0.65165,     0.65265,     0.65365,     0.65465,     0.65566,     0.65666,     0.65766,     0.65866,     0.65966,     0.66066,     0.66166,     0.66266,     0.66366,     0.66466,     0.66567,     0.66667,     0.66767,     0.66867,     0.66967,     0.67067,     0.67167,\n",
       "           0.67267,     0.67367,     0.67467,     0.67568,     0.67668,     0.67768,     0.67868,     0.67968,     0.68068,     0.68168,     0.68268,     0.68368,     0.68468,     0.68569,     0.68669,     0.68769,     0.68869,     0.68969,     0.69069,     0.69169,     0.69269,     0.69369,     0.69469,      0.6957,\n",
       "            0.6967,      0.6977,      0.6987,      0.6997,      0.7007,      0.7017,      0.7027,      0.7037,      0.7047,     0.70571,     0.70671,     0.70771,     0.70871,     0.70971,     0.71071,     0.71171,     0.71271,     0.71371,     0.71471,     0.71572,     0.71672,     0.71772,     0.71872,     0.71972,\n",
       "           0.72072,     0.72172,     0.72272,     0.72372,     0.72472,     0.72573,     0.72673,     0.72773,     0.72873,     0.72973,     0.73073,     0.73173,     0.73273,     0.73373,     0.73473,     0.73574,     0.73674,     0.73774,     0.73874,     0.73974,     0.74074,     0.74174,     0.74274,     0.74374,\n",
       "           0.74474,     0.74575,     0.74675,     0.74775,     0.74875,     0.74975,     0.75075,     0.75175,     0.75275,     0.75375,     0.75475,     0.75576,     0.75676,     0.75776,     0.75876,     0.75976,     0.76076,     0.76176,     0.76276,     0.76376,     0.76476,     0.76577,     0.76677,     0.76777,\n",
       "           0.76877,     0.76977,     0.77077,     0.77177,     0.77277,     0.77377,     0.77477,     0.77578,     0.77678,     0.77778,     0.77878,     0.77978,     0.78078,     0.78178,     0.78278,     0.78378,     0.78478,     0.78579,     0.78679,     0.78779,     0.78879,     0.78979,     0.79079,     0.79179,\n",
       "           0.79279,     0.79379,     0.79479,      0.7958,      0.7968,      0.7978,      0.7988,      0.7998,      0.8008,      0.8018,      0.8028,      0.8038,      0.8048,     0.80581,     0.80681,     0.80781,     0.80881,     0.80981,     0.81081,     0.81181,     0.81281,     0.81381,     0.81481,     0.81582,\n",
       "           0.81682,     0.81782,     0.81882,     0.81982,     0.82082,     0.82182,     0.82282,     0.82382,     0.82482,     0.82583,     0.82683,     0.82783,     0.82883,     0.82983,     0.83083,     0.83183,     0.83283,     0.83383,     0.83483,     0.83584,     0.83684,     0.83784,     0.83884,     0.83984,\n",
       "           0.84084,     0.84184,     0.84284,     0.84384,     0.84484,     0.84585,     0.84685,     0.84785,     0.84885,     0.84985,     0.85085,     0.85185,     0.85285,     0.85385,     0.85485,     0.85586,     0.85686,     0.85786,     0.85886,     0.85986,     0.86086,     0.86186,     0.86286,     0.86386,\n",
       "           0.86486,     0.86587,     0.86687,     0.86787,     0.86887,     0.86987,     0.87087,     0.87187,     0.87287,     0.87387,     0.87487,     0.87588,     0.87688,     0.87788,     0.87888,     0.87988,     0.88088,     0.88188,     0.88288,     0.88388,     0.88488,     0.88589,     0.88689,     0.88789,\n",
       "           0.88889,     0.88989,     0.89089,     0.89189,     0.89289,     0.89389,     0.89489,      0.8959,      0.8969,      0.8979,      0.8989,      0.8999,      0.9009,      0.9019,      0.9029,      0.9039,      0.9049,     0.90591,     0.90691,     0.90791,     0.90891,     0.90991,     0.91091,     0.91191,\n",
       "           0.91291,     0.91391,     0.91491,     0.91592,     0.91692,     0.91792,     0.91892,     0.91992,     0.92092,     0.92192,     0.92292,     0.92392,     0.92492,     0.92593,     0.92693,     0.92793,     0.92893,     0.92993,     0.93093,     0.93193,     0.93293,     0.93393,     0.93493,     0.93594,\n",
       "           0.93694,     0.93794,     0.93894,     0.93994,     0.94094,     0.94194,     0.94294,     0.94394,     0.94494,     0.94595,     0.94695,     0.94795,     0.94895,     0.94995,     0.95095,     0.95195,     0.95295,     0.95395,     0.95495,     0.95596,     0.95696,     0.95796,     0.95896,     0.95996,\n",
       "           0.96096,     0.96196,     0.96296,     0.96396,     0.96496,     0.96597,     0.96697,     0.96797,     0.96897,     0.96997,     0.97097,     0.97197,     0.97297,     0.97397,     0.97497,     0.97598,     0.97698,     0.97798,     0.97898,     0.97998,     0.98098,     0.98198,     0.98298,     0.98398,\n",
       "           0.98498,     0.98599,     0.98699,     0.98799,     0.98899,     0.98999,     0.99099,     0.99199,     0.99299,     0.99399,     0.99499,       0.996,       0.997,       0.998,       0.999,           1]), array([[          1,           1,           1,           1,           1,           1,           1,           1,           1,           1,           1,           1,           1,           1,           1,           1,           1,           1,           1,           1,           1,           1,           1,\n",
       "                  1,           1,           1,           1,           1,           1,           1,           1,           1,           1,           1,           1,           1,           1,           1,           1,           1,           1,           1,           1,           1,           1,           1,\n",
       "                  1,           1,           1,           1,           1,           1,           1,           1,           1,           1,           1,           1,           1,           1,           1,           1,           1,           1,           1,           1,           1,           1,           1,\n",
       "                  1,           1,           1,           1,           1,           1,           1,           1,           1,           1,           1,           1,           1,           1,           1,           1,           1,           1,           1,           1,           1,           1,           1,\n",
       "                  1,           1,           1,           1,           1,           1,           1,           1,           1,           1,           1,           1,           1,           1,           1,           1,           1,           1,           1,           1,           1,           1,           1,\n",
       "                  1,           1,           1,           1,           1,           1,           1,           1,           1,           1,           1,           1,           1,           1,           1,           1,           1,           1,           1,           1,           1,           1,           1,\n",
       "                  1,           1,           1,           1,           1,           1,           1,           1,           1,           1,           1,           1,           1,           1,           1,           1,           1,           1,           1,           1,           1,           1,           1,\n",
       "                  1,           1,           1,           1,           1,           1,           1,           1,           1,           1,           1,           1,           1,           1,           1,           1,           1,           1,           1,           1,           1,           1,           1,\n",
       "                  1,           1,           1,           1,           1,           1,           1,           1,           1,           1,           1,           1,           1,           1,           1,           1,           1,           1,           1,           1,           1,           1,           1,\n",
       "                  1,           1,           1,           1,           1,           1,           1,           1,           1,           1,           1,           1,           1,           1,           1,           1,           1,           1,           1,           1,           1,           1,           1,\n",
       "                  1,           1,           1,           1,           1,           1,           1,           1,           1,           1,           1,           1,           1,           1,           1,           1,           1,           1,           1,           1,           1,           1,           1,\n",
       "                  1,           1,           1,           1,           1,           1,           1,           1,           1,           1,           1,           1,           1,           1,           1,           1,           1,           1,           1,           1,           1,           1,           1,\n",
       "                  1,           1,           1,           1,           1,           1,           1,           1,           1,           1,           1,           1,           1,           1,           1,           1,           1,           1,           1,           1,           1,           1,           1,\n",
       "                  1,           1,           1,           1,           1,           1,           1,           1,           1,           1,           1,           1,           1,           1,           1,           1,           1,           1,           1,           1,           1,           1,           1,\n",
       "                  1,           1,           1,           1,           1,           1,           1,           1,           1,           1,           1,           1,           1,           1,           1,           1,           1,           1,           1,           1,           1,           1,           1,\n",
       "                  1,           1,           1,           1,           1,           1,           1,           1,           1,           1,           1,           1,           1,           1,           1,           1,           1,           1,           1,           1,           1,           1,           1,\n",
       "                  1,           1,           1,           1,           1,           1,           1,           1,           1,           1,           1,           1,           1,           1,           1,           1,           1,           1,           1,           1,           1,           1,           1,\n",
       "                  1,           1,           1,           1,           1,           1,           1,           1,           1,           1,           1,           1,           1,           1,           1,           1,           1,           1,           1,           1,           1,           1,           1,\n",
       "                  1,           1,           1,           1,           1,           1,           1,           1,           1,           1,           1,           1,           1,           1,           1,           1,           1,           1,           1,           1,           1,     0.84615,     0.84615,\n",
       "            0.84615,     0.84615,     0.84615,     0.84615,     0.84615,     0.84615,     0.84615,     0.84615,     0.84615,     0.84615,     0.84615,     0.84615,     0.84615,     0.84615,     0.84615,     0.84615,     0.84615,     0.84615,     0.84615,     0.84615,     0.84615,     0.84615,     0.84615,\n",
       "            0.84615,     0.84615,     0.84615,     0.84615,     0.84615,     0.84615,     0.84615,     0.84615,     0.84615,     0.84615,     0.84615,     0.84615,     0.84615,     0.84615,     0.84615,     0.84615,     0.84615,     0.84615,         0.3,         0.3,         0.3,         0.3,         0.3,\n",
       "                0.3,         0.3,         0.3,         0.3,         0.3,         0.3,         0.3,         0.3,         0.3,         0.3,         0.3,         0.3,         0.3,         0.3,         0.3,         0.3,         0.3,         0.3,         0.3,         0.3,         0.3,         0.3,         0.3,\n",
       "                0.3,         0.3,         0.3,         0.3,         0.3,         0.3,         0.3,         0.3,         0.3,         0.3,         0.3,         0.3,         0.3,         0.3,         0.3,         0.3,     0.15854,     0.15854,     0.15854,     0.15854,     0.15854,     0.15854,     0.15854,\n",
       "            0.15854,     0.15854,     0.15854,     0.15854,     0.15854,     0.15854,     0.15854,     0.15854,     0.15854,     0.15854,     0.15854,     0.15854,     0.15854,     0.15854,     0.15854,     0.15854,     0.15854,     0.15854,     0.15854,     0.15854,     0.15854,     0.15854,     0.15854,\n",
       "            0.15854,     0.15854,     0.15854,     0.15854,     0.15854,     0.15854,     0.15854,     0.15854,     0.15854,     0.15854,     0.15854,     0.15854,     0.15854,     0.14433,     0.14433,     0.14433,     0.14433,     0.14433,     0.14433,     0.14433,     0.14433,     0.14433,     0.14433,\n",
       "            0.14433,     0.14433,     0.14433,     0.14433,     0.14433,     0.14433,     0.14433,     0.14433,     0.14433,     0.14433,     0.14433,     0.14433,     0.14433,     0.14433,     0.14433,     0.14433,     0.14433,     0.14433,     0.14433,     0.14433,     0.14433,     0.14433,     0.14433,\n",
       "            0.14433,     0.14433,     0.14433,     0.14433,     0.14433,     0.14433,     0.14433,     0.14433,     0.14433,     0.14433,     0.14433,     0.14423,     0.14423,     0.14423,     0.14423,     0.14423,     0.14423,     0.14423,     0.14423,     0.14423,     0.14423,     0.14423,     0.14423,\n",
       "            0.14423,     0.14423,     0.14423,     0.14423,     0.14423,     0.14423,     0.14423,     0.14423,     0.14423,     0.14423,     0.14423,     0.14423,     0.14423,     0.14423,     0.14423,     0.14423,     0.14423,     0.14423,     0.14423,     0.14423,     0.14423,     0.14423,     0.14423,\n",
       "            0.14423,     0.14423,     0.14423,     0.14423,     0.14423,     0.14423,     0.14423,     0.14423,      0.1018,      0.1018,      0.1018,      0.1018,      0.1018,      0.1018,      0.1018,      0.1018,      0.1018,      0.1018,      0.1018,      0.1018,      0.1018,      0.1018,      0.1018,\n",
       "             0.1018,      0.1018,      0.1018,      0.1018,      0.1018,      0.1018,      0.1018,      0.1018,      0.1018,      0.1018,      0.1018,      0.1018,      0.1018,      0.1018,      0.1018,      0.1018,      0.1018,      0.1018,      0.1018,      0.1018,      0.1018,      0.1018,      0.1018,\n",
       "             0.1018,      0.1018,      0.1018,      0.1018,      0.1018,      0.1018,      0.1018,      0.1018,      0.1018,      0.1018,      0.1018,      0.1018,      0.1018,      0.1018,      0.1018,      0.1018,      0.1018,      0.1018,      0.1018,      0.1018,      0.1018,      0.1018,      0.1018,\n",
       "             0.1018,      0.1018,      0.1018,      0.1018,      0.1018,      0.1018,      0.1018,      0.1018,      0.1018,      0.1018,      0.1018,      0.1018,      0.1018,      0.1018,      0.1018,      0.1018,      0.1018,      0.1018,      0.1018,      0.1018,      0.1018,      0.1018,      0.1018,\n",
       "             0.1018,      0.1018,      0.1018,    0.055556,    0.055556,    0.055556,    0.055556,    0.055556,    0.055556,    0.055556,    0.055556,    0.055556,    0.055556,    0.055556,    0.055556,    0.055556,    0.055556,    0.055556,    0.055556,    0.055556,    0.055556,    0.055556,    0.055556,\n",
       "           0.055556,    0.055556,    0.055556,    0.055556,    0.055556,    0.055556,    0.055556,    0.055556,    0.055556,    0.055556,    0.055556,    0.055556,    0.055556,    0.055556,    0.055556,    0.055556,    0.055556,    0.055556,    0.055556,    0.055556,    0.055556,    0.055556,    0.055556,\n",
       "           0.050265,    0.050265,    0.050265,    0.050265,    0.050265,    0.050265,    0.050265,    0.050265,    0.050265,    0.050265,    0.050265,    0.050265,    0.050265,    0.050265,    0.050265,    0.050265,    0.050265,    0.050265,    0.050265,    0.050265,    0.050265,    0.050265,    0.050265,\n",
       "           0.050265,    0.050265,    0.050265,    0.050265,    0.050265,    0.050265,    0.050265,    0.050265,    0.050265,    0.050265,    0.050265,    0.050265,    0.050265,    0.050265,    0.050265,    0.050265,    0.050265,    0.050265,    0.050265,    0.050265,    0.050265,    0.040404,    0.040404,\n",
       "           0.040404,    0.040404,    0.040404,    0.040404,    0.040404,    0.040404,    0.040404,    0.040404,    0.040404,    0.040404,    0.040404,    0.040404,    0.040404,    0.040404,    0.040404,    0.040404,    0.040404,    0.040404,    0.040404,    0.040404,    0.040404,    0.040404,    0.040404,\n",
       "           0.040404,    0.040404,    0.040404,    0.040404,    0.040404,    0.040404,    0.040404,    0.040404,    0.040404,    0.040404,    0.040404,    0.040404,    0.040404,    0.040404,    0.040404,    0.040404,    0.040404,    0.040404,    0.035354,    0.035354,    0.035354,    0.035354,    0.035354,\n",
       "           0.035354,    0.035354,    0.035354,    0.035354,    0.035354,    0.035354,    0.035354,    0.035354,    0.035354,    0.035354,    0.035354,    0.035354,    0.035354,    0.035354,    0.035354,    0.035354,    0.035354,    0.035354,    0.035354,    0.035354,    0.035354,    0.035354,    0.035354,\n",
       "           0.035354,    0.035354,    0.035354,    0.035354,    0.035354,    0.035354,    0.035354,    0.035354,    0.035354,    0.035354,    0.035354,    0.035354,    0.035354,    0.035354,    0.035354,    0.035354,    0.020224,    0.019988,    0.019753,    0.019518,    0.019283,    0.019048,    0.018813,\n",
       "           0.018577,    0.018342,    0.018107,    0.017872,    0.017637,    0.017402,    0.017166,    0.016931,    0.016696,    0.016461,    0.016226,    0.015991,    0.015756,     0.01552,    0.015285,     0.01505,    0.014815,     0.01458,    0.014345,    0.014109,    0.013874,    0.013639,    0.013404,\n",
       "           0.013169,    0.012934,    0.012698,    0.012463,    0.012228,    0.011993,    0.011758,    0.011523,    0.011288,    0.011052,    0.010817,    0.010582,    0.010347,    0.010112,   0.0098766,   0.0096415,   0.0094063,   0.0091711,    0.008936,   0.0087008,   0.0084657,   0.0082305,   0.0079953,\n",
       "          0.0077602,    0.007525,   0.0072899,   0.0070547,   0.0068196,   0.0065844,   0.0063492,   0.0061141,   0.0058789,   0.0056438,   0.0054086,   0.0051735,   0.0049383,   0.0047031,    0.004468,   0.0042328,   0.0039977,   0.0037625,   0.0035274,   0.0032922,    0.003057,   0.0028219,   0.0025867,\n",
       "          0.0023516,   0.0021164,   0.0018813,   0.0016461,   0.0014109,   0.0011758,  0.00094063,  0.00070547,  0.00047031,  0.00023516,           0]]), 'Recall', 'Precision'], [array([          0,    0.001001,    0.002002,    0.003003,    0.004004,    0.005005,    0.006006,    0.007007,    0.008008,    0.009009,     0.01001,    0.011011,    0.012012,    0.013013,    0.014014,    0.015015,    0.016016,    0.017017,    0.018018,    0.019019,     0.02002,    0.021021,    0.022022,    0.023023,\n",
       "          0.024024,    0.025025,    0.026026,    0.027027,    0.028028,    0.029029,     0.03003,    0.031031,    0.032032,    0.033033,    0.034034,    0.035035,    0.036036,    0.037037,    0.038038,    0.039039,     0.04004,    0.041041,    0.042042,    0.043043,    0.044044,    0.045045,    0.046046,    0.047047,\n",
       "          0.048048,    0.049049,     0.05005,    0.051051,    0.052052,    0.053053,    0.054054,    0.055055,    0.056056,    0.057057,    0.058058,    0.059059,     0.06006,    0.061061,    0.062062,    0.063063,    0.064064,    0.065065,    0.066066,    0.067067,    0.068068,    0.069069,     0.07007,    0.071071,\n",
       "          0.072072,    0.073073,    0.074074,    0.075075,    0.076076,    0.077077,    0.078078,    0.079079,     0.08008,    0.081081,    0.082082,    0.083083,    0.084084,    0.085085,    0.086086,    0.087087,    0.088088,    0.089089,     0.09009,    0.091091,    0.092092,    0.093093,    0.094094,    0.095095,\n",
       "          0.096096,    0.097097,    0.098098,    0.099099,      0.1001,      0.1011,      0.1021,      0.1031,      0.1041,     0.10511,     0.10611,     0.10711,     0.10811,     0.10911,     0.11011,     0.11111,     0.11211,     0.11311,     0.11411,     0.11512,     0.11612,     0.11712,     0.11812,     0.11912,\n",
       "           0.12012,     0.12112,     0.12212,     0.12312,     0.12412,     0.12513,     0.12613,     0.12713,     0.12813,     0.12913,     0.13013,     0.13113,     0.13213,     0.13313,     0.13413,     0.13514,     0.13614,     0.13714,     0.13814,     0.13914,     0.14014,     0.14114,     0.14214,     0.14314,\n",
       "           0.14414,     0.14515,     0.14615,     0.14715,     0.14815,     0.14915,     0.15015,     0.15115,     0.15215,     0.15315,     0.15415,     0.15516,     0.15616,     0.15716,     0.15816,     0.15916,     0.16016,     0.16116,     0.16216,     0.16316,     0.16416,     0.16517,     0.16617,     0.16717,\n",
       "           0.16817,     0.16917,     0.17017,     0.17117,     0.17217,     0.17317,     0.17417,     0.17518,     0.17618,     0.17718,     0.17818,     0.17918,     0.18018,     0.18118,     0.18218,     0.18318,     0.18418,     0.18519,     0.18619,     0.18719,     0.18819,     0.18919,     0.19019,     0.19119,\n",
       "           0.19219,     0.19319,     0.19419,      0.1952,      0.1962,      0.1972,      0.1982,      0.1992,      0.2002,      0.2012,      0.2022,      0.2032,      0.2042,     0.20521,     0.20621,     0.20721,     0.20821,     0.20921,     0.21021,     0.21121,     0.21221,     0.21321,     0.21421,     0.21522,\n",
       "           0.21622,     0.21722,     0.21822,     0.21922,     0.22022,     0.22122,     0.22222,     0.22322,     0.22422,     0.22523,     0.22623,     0.22723,     0.22823,     0.22923,     0.23023,     0.23123,     0.23223,     0.23323,     0.23423,     0.23524,     0.23624,     0.23724,     0.23824,     0.23924,\n",
       "           0.24024,     0.24124,     0.24224,     0.24324,     0.24424,     0.24525,     0.24625,     0.24725,     0.24825,     0.24925,     0.25025,     0.25125,     0.25225,     0.25325,     0.25425,     0.25526,     0.25626,     0.25726,     0.25826,     0.25926,     0.26026,     0.26126,     0.26226,     0.26326,\n",
       "           0.26426,     0.26527,     0.26627,     0.26727,     0.26827,     0.26927,     0.27027,     0.27127,     0.27227,     0.27327,     0.27427,     0.27528,     0.27628,     0.27728,     0.27828,     0.27928,     0.28028,     0.28128,     0.28228,     0.28328,     0.28428,     0.28529,     0.28629,     0.28729,\n",
       "           0.28829,     0.28929,     0.29029,     0.29129,     0.29229,     0.29329,     0.29429,      0.2953,      0.2963,      0.2973,      0.2983,      0.2993,      0.3003,      0.3013,      0.3023,      0.3033,      0.3043,     0.30531,     0.30631,     0.30731,     0.30831,     0.30931,     0.31031,     0.31131,\n",
       "           0.31231,     0.31331,     0.31431,     0.31532,     0.31632,     0.31732,     0.31832,     0.31932,     0.32032,     0.32132,     0.32232,     0.32332,     0.32432,     0.32533,     0.32633,     0.32733,     0.32833,     0.32933,     0.33033,     0.33133,     0.33233,     0.33333,     0.33433,     0.33534,\n",
       "           0.33634,     0.33734,     0.33834,     0.33934,     0.34034,     0.34134,     0.34234,     0.34334,     0.34434,     0.34535,     0.34635,     0.34735,     0.34835,     0.34935,     0.35035,     0.35135,     0.35235,     0.35335,     0.35435,     0.35536,     0.35636,     0.35736,     0.35836,     0.35936,\n",
       "           0.36036,     0.36136,     0.36236,     0.36336,     0.36436,     0.36537,     0.36637,     0.36737,     0.36837,     0.36937,     0.37037,     0.37137,     0.37237,     0.37337,     0.37437,     0.37538,     0.37638,     0.37738,     0.37838,     0.37938,     0.38038,     0.38138,     0.38238,     0.38338,\n",
       "           0.38438,     0.38539,     0.38639,     0.38739,     0.38839,     0.38939,     0.39039,     0.39139,     0.39239,     0.39339,     0.39439,      0.3954,      0.3964,      0.3974,      0.3984,      0.3994,      0.4004,      0.4014,      0.4024,      0.4034,      0.4044,     0.40541,     0.40641,     0.40741,\n",
       "           0.40841,     0.40941,     0.41041,     0.41141,     0.41241,     0.41341,     0.41441,     0.41542,     0.41642,     0.41742,     0.41842,     0.41942,     0.42042,     0.42142,     0.42242,     0.42342,     0.42442,     0.42543,     0.42643,     0.42743,     0.42843,     0.42943,     0.43043,     0.43143,\n",
       "           0.43243,     0.43343,     0.43443,     0.43544,     0.43644,     0.43744,     0.43844,     0.43944,     0.44044,     0.44144,     0.44244,     0.44344,     0.44444,     0.44545,     0.44645,     0.44745,     0.44845,     0.44945,     0.45045,     0.45145,     0.45245,     0.45345,     0.45445,     0.45546,\n",
       "           0.45646,     0.45746,     0.45846,     0.45946,     0.46046,     0.46146,     0.46246,     0.46346,     0.46446,     0.46547,     0.46647,     0.46747,     0.46847,     0.46947,     0.47047,     0.47147,     0.47247,     0.47347,     0.47447,     0.47548,     0.47648,     0.47748,     0.47848,     0.47948,\n",
       "           0.48048,     0.48148,     0.48248,     0.48348,     0.48448,     0.48549,     0.48649,     0.48749,     0.48849,     0.48949,     0.49049,     0.49149,     0.49249,     0.49349,     0.49449,      0.4955,      0.4965,      0.4975,      0.4985,      0.4995,      0.5005,      0.5015,      0.5025,      0.5035,\n",
       "            0.5045,     0.50551,     0.50651,     0.50751,     0.50851,     0.50951,     0.51051,     0.51151,     0.51251,     0.51351,     0.51451,     0.51552,     0.51652,     0.51752,     0.51852,     0.51952,     0.52052,     0.52152,     0.52252,     0.52352,     0.52452,     0.52553,     0.52653,     0.52753,\n",
       "           0.52853,     0.52953,     0.53053,     0.53153,     0.53253,     0.53353,     0.53453,     0.53554,     0.53654,     0.53754,     0.53854,     0.53954,     0.54054,     0.54154,     0.54254,     0.54354,     0.54454,     0.54555,     0.54655,     0.54755,     0.54855,     0.54955,     0.55055,     0.55155,\n",
       "           0.55255,     0.55355,     0.55455,     0.55556,     0.55656,     0.55756,     0.55856,     0.55956,     0.56056,     0.56156,     0.56256,     0.56356,     0.56456,     0.56557,     0.56657,     0.56757,     0.56857,     0.56957,     0.57057,     0.57157,     0.57257,     0.57357,     0.57457,     0.57558,\n",
       "           0.57658,     0.57758,     0.57858,     0.57958,     0.58058,     0.58158,     0.58258,     0.58358,     0.58458,     0.58559,     0.58659,     0.58759,     0.58859,     0.58959,     0.59059,     0.59159,     0.59259,     0.59359,     0.59459,      0.5956,      0.5966,      0.5976,      0.5986,      0.5996,\n",
       "            0.6006,      0.6016,      0.6026,      0.6036,      0.6046,     0.60561,     0.60661,     0.60761,     0.60861,     0.60961,     0.61061,     0.61161,     0.61261,     0.61361,     0.61461,     0.61562,     0.61662,     0.61762,     0.61862,     0.61962,     0.62062,     0.62162,     0.62262,     0.62362,\n",
       "           0.62462,     0.62563,     0.62663,     0.62763,     0.62863,     0.62963,     0.63063,     0.63163,     0.63263,     0.63363,     0.63463,     0.63564,     0.63664,     0.63764,     0.63864,     0.63964,     0.64064,     0.64164,     0.64264,     0.64364,     0.64464,     0.64565,     0.64665,     0.64765,\n",
       "           0.64865,     0.64965,     0.65065,     0.65165,     0.65265,     0.65365,     0.65465,     0.65566,     0.65666,     0.65766,     0.65866,     0.65966,     0.66066,     0.66166,     0.66266,     0.66366,     0.66466,     0.66567,     0.66667,     0.66767,     0.66867,     0.66967,     0.67067,     0.67167,\n",
       "           0.67267,     0.67367,     0.67467,     0.67568,     0.67668,     0.67768,     0.67868,     0.67968,     0.68068,     0.68168,     0.68268,     0.68368,     0.68468,     0.68569,     0.68669,     0.68769,     0.68869,     0.68969,     0.69069,     0.69169,     0.69269,     0.69369,     0.69469,      0.6957,\n",
       "            0.6967,      0.6977,      0.6987,      0.6997,      0.7007,      0.7017,      0.7027,      0.7037,      0.7047,     0.70571,     0.70671,     0.70771,     0.70871,     0.70971,     0.71071,     0.71171,     0.71271,     0.71371,     0.71471,     0.71572,     0.71672,     0.71772,     0.71872,     0.71972,\n",
       "           0.72072,     0.72172,     0.72272,     0.72372,     0.72472,     0.72573,     0.72673,     0.72773,     0.72873,     0.72973,     0.73073,     0.73173,     0.73273,     0.73373,     0.73473,     0.73574,     0.73674,     0.73774,     0.73874,     0.73974,     0.74074,     0.74174,     0.74274,     0.74374,\n",
       "           0.74474,     0.74575,     0.74675,     0.74775,     0.74875,     0.74975,     0.75075,     0.75175,     0.75275,     0.75375,     0.75475,     0.75576,     0.75676,     0.75776,     0.75876,     0.75976,     0.76076,     0.76176,     0.76276,     0.76376,     0.76476,     0.76577,     0.76677,     0.76777,\n",
       "           0.76877,     0.76977,     0.77077,     0.77177,     0.77277,     0.77377,     0.77477,     0.77578,     0.77678,     0.77778,     0.77878,     0.77978,     0.78078,     0.78178,     0.78278,     0.78378,     0.78478,     0.78579,     0.78679,     0.78779,     0.78879,     0.78979,     0.79079,     0.79179,\n",
       "           0.79279,     0.79379,     0.79479,      0.7958,      0.7968,      0.7978,      0.7988,      0.7998,      0.8008,      0.8018,      0.8028,      0.8038,      0.8048,     0.80581,     0.80681,     0.80781,     0.80881,     0.80981,     0.81081,     0.81181,     0.81281,     0.81381,     0.81481,     0.81582,\n",
       "           0.81682,     0.81782,     0.81882,     0.81982,     0.82082,     0.82182,     0.82282,     0.82382,     0.82482,     0.82583,     0.82683,     0.82783,     0.82883,     0.82983,     0.83083,     0.83183,     0.83283,     0.83383,     0.83483,     0.83584,     0.83684,     0.83784,     0.83884,     0.83984,\n",
       "           0.84084,     0.84184,     0.84284,     0.84384,     0.84484,     0.84585,     0.84685,     0.84785,     0.84885,     0.84985,     0.85085,     0.85185,     0.85285,     0.85385,     0.85485,     0.85586,     0.85686,     0.85786,     0.85886,     0.85986,     0.86086,     0.86186,     0.86286,     0.86386,\n",
       "           0.86486,     0.86587,     0.86687,     0.86787,     0.86887,     0.86987,     0.87087,     0.87187,     0.87287,     0.87387,     0.87487,     0.87588,     0.87688,     0.87788,     0.87888,     0.87988,     0.88088,     0.88188,     0.88288,     0.88388,     0.88488,     0.88589,     0.88689,     0.88789,\n",
       "           0.88889,     0.88989,     0.89089,     0.89189,     0.89289,     0.89389,     0.89489,      0.8959,      0.8969,      0.8979,      0.8989,      0.8999,      0.9009,      0.9019,      0.9029,      0.9039,      0.9049,     0.90591,     0.90691,     0.90791,     0.90891,     0.90991,     0.91091,     0.91191,\n",
       "           0.91291,     0.91391,     0.91491,     0.91592,     0.91692,     0.91792,     0.91892,     0.91992,     0.92092,     0.92192,     0.92292,     0.92392,     0.92492,     0.92593,     0.92693,     0.92793,     0.92893,     0.92993,     0.93093,     0.93193,     0.93293,     0.93393,     0.93493,     0.93594,\n",
       "           0.93694,     0.93794,     0.93894,     0.93994,     0.94094,     0.94194,     0.94294,     0.94394,     0.94494,     0.94595,     0.94695,     0.94795,     0.94895,     0.94995,     0.95095,     0.95195,     0.95295,     0.95395,     0.95495,     0.95596,     0.95696,     0.95796,     0.95896,     0.95996,\n",
       "           0.96096,     0.96196,     0.96296,     0.96396,     0.96496,     0.96597,     0.96697,     0.96797,     0.96897,     0.96997,     0.97097,     0.97197,     0.97297,     0.97397,     0.97497,     0.97598,     0.97698,     0.97798,     0.97898,     0.97998,     0.98098,     0.98198,     0.98298,     0.98398,\n",
       "           0.98498,     0.98599,     0.98699,     0.98799,     0.98899,     0.98999,     0.99099,     0.99199,     0.99299,     0.99399,     0.99499,       0.996,       0.997,       0.998,       0.999,           1]), array([[   0.039962,    0.039962,    0.053705,    0.063441,    0.068954,    0.075415,    0.077247,    0.081794,    0.085601,    0.090664,    0.094749,    0.092436,    0.095497,    0.099694,     0.10287,    0.099341,     0.10209,     0.10308,      0.1047,     0.10707,     0.10959,     0.11171,     0.11358,\n",
       "            0.11602,     0.11712,     0.11786,      0.1198,     0.12301,     0.12662,     0.12999,     0.13161,     0.13312,     0.13462,     0.13563,     0.13743,      0.1387,     0.14121,     0.14198,     0.14303,     0.14465,     0.14809,     0.15061,     0.15201,     0.15283,     0.15339,     0.15379,\n",
       "            0.15491,     0.15662,     0.15741,     0.15771,       0.158,     0.15991,     0.16084,     0.16176,     0.16285,     0.16322,     0.16363,     0.16414,     0.16652,      0.1681,     0.17062,     0.17255,     0.17404,     0.17503,     0.17636,     0.17663,     0.17691,     0.17753,     0.17876,\n",
       "            0.17074,     0.17164,     0.17215,     0.17242,     0.17269,     0.17297,     0.17508,      0.1758,     0.17013,      0.1659,     0.16651,     0.16703,     0.16752,     0.16793,     0.16833,     0.16906,     0.16991,     0.17112,      0.1727,     0.17308,     0.17424,     0.17608,     0.17675,\n",
       "            0.17715,     0.17768,     0.17986,     0.18298,     0.18382,     0.18575,     0.18705,     0.18795,     0.18864,     0.19083,     0.19147,     0.19192,     0.19367,     0.19444,     0.19629,     0.19693,     0.19805,     0.20138,      0.2016,     0.20182,     0.20203,     0.20225,     0.20247,\n",
       "            0.20269,     0.20352,     0.20525,     0.20602,      0.2066,     0.20758,     0.20942,     0.21009,     0.21044,     0.21079,     0.21114,      0.2147,     0.21575,     0.21825,     0.21982,     0.22239,     0.22375,     0.22558,     0.22589,      0.2262,     0.22651,     0.22683,     0.22714,\n",
       "            0.22842,     0.22986,     0.23086,     0.23124,     0.23162,     0.23199,     0.23237,     0.23438,     0.23514,     0.23589,     0.22226,     0.22271,     0.22317,     0.22362,     0.22403,     0.22418,     0.22433,     0.22448,     0.22463,     0.22478,     0.22493,     0.22509,     0.22524,\n",
       "            0.22539,     0.22554,     0.22569,     0.22587,     0.22615,     0.22643,     0.22671,     0.22698,     0.22726,     0.22754,       0.228,     0.22857,     0.22914,     0.23011,     0.23219,      0.2186,     0.22047,     0.22072,     0.22097,     0.22122,     0.22147,     0.22172,     0.22197,\n",
       "            0.22222,     0.22332,     0.22422,     0.22452,     0.22481,     0.22511,      0.2254,      0.2257,     0.22599,     0.22665,     0.22746,     0.22812,     0.22832,     0.22852,     0.22873,     0.22893,     0.22913,     0.22933,     0.22953,     0.22974,     0.22994,     0.23093,     0.23397,\n",
       "            0.23662,     0.23746,     0.23831,     0.23917,     0.24003,     0.24081,     0.24118,     0.24156,     0.24194,     0.24231,     0.24269,     0.24333,     0.24504,     0.23119,     0.23286,     0.23597,     0.23863,     0.24075,     0.24583,     0.24752,     0.24814,     0.24876,     0.24938,\n",
       "            0.25001,     0.25197,     0.25345,     0.25467,      0.2557,      0.2565,     0.25731,     0.25827,     0.26113,     0.26194,     0.26275,     0.26356,     0.26387,     0.26405,     0.26422,      0.2644,     0.26457,     0.26475,     0.26492,     0.26509,     0.26527,     0.26544,     0.26562,\n",
       "            0.26579,     0.26596,     0.26614,     0.26631,     0.26649,     0.26666,     0.26689,     0.26712,     0.26735,     0.26759,     0.26782,     0.26805,     0.26828,     0.26851,     0.26875,     0.26898,     0.26921,     0.26944,     0.26979,     0.27401,     0.28098,     0.28268,     0.28323,\n",
       "            0.28379,     0.28434,     0.28489,     0.28544,     0.28598,     0.28653,     0.28707,     0.28762,     0.28816,      0.2887,      0.2899,     0.29287,     0.29332,     0.29377,     0.29422,     0.29467,     0.29512,     0.29557,     0.29602,     0.29687,     0.29839,      0.2999,     0.30208,\n",
       "            0.30416,     0.30576,     0.30736,     0.30807,     0.30856,     0.30904,     0.30952,        0.31,     0.31049,     0.31097,     0.31145,     0.31199,     0.31259,     0.31319,     0.31379,     0.31439,     0.31499,     0.31559,     0.31597,     0.31625,     0.31652,      0.3168,     0.31707,\n",
       "            0.31735,     0.31762,      0.3179,     0.31817,     0.31844,     0.31872,     0.31899,     0.31926,     0.31954,     0.31981,     0.32077,      0.3233,     0.32531,     0.32697,     0.32862,     0.32945,      0.3302,     0.33095,      0.3317,     0.33245,     0.33319,     0.33421,     0.33528,\n",
       "            0.33635,     0.33741,     0.34083,      0.3434,     0.34419,     0.34497,     0.34576,     0.34654,     0.34732,     0.34816,     0.34912,     0.35008,     0.35103,     0.35198,     0.35293,     0.35823,     0.36026,     0.36228,     0.36432,     0.36641,     0.36849,     0.37142,     0.37478,\n",
       "            0.37621,      0.3775,     0.37878,     0.38006,     0.37926,     0.37363,       0.368,     0.36236,     0.35671,     0.35713,     0.36052,     0.36225,     0.36389,     0.36553,     0.36676,     0.36707,     0.36737,     0.36768,     0.36798,     0.36829,     0.36859,      0.3689,      0.3692,\n",
       "             0.3695,     0.36981,     0.37011,     0.37041,     0.37072,     0.37102,     0.37132,     0.37162,     0.37192,     0.37222,     0.37253,     0.37283,     0.37305,     0.37326,     0.37346,     0.37367,     0.37387,     0.37408,     0.37429,     0.37449,      0.3747,      0.3749,     0.37511,\n",
       "            0.37531,     0.37552,     0.37572,     0.37593,     0.37613,     0.37633,     0.37654,     0.37674,     0.37695,     0.37715,     0.37735,     0.37756,     0.37776,     0.37796,     0.37817,     0.37837,     0.37857,     0.37877,     0.37898,     0.37918,     0.38664,     0.38853,     0.39042,\n",
       "            0.39229,     0.39337,     0.39411,     0.39485,     0.39558,     0.39632,     0.39705,     0.39778,     0.39851,     0.39923,     0.39995,     0.40093,     0.40192,      0.4029,     0.40388,     0.40486,     0.40583,      0.4068,     0.40841,     0.41105,     0.41367,     0.41531,      0.4158,\n",
       "            0.41629,     0.41677,     0.41726,     0.41774,     0.41823,     0.41871,     0.41919,     0.41967,     0.42015,     0.42063,     0.42111,     0.42159,     0.42206,     0.42254,     0.42301,     0.42342,     0.42381,      0.4242,     0.42459,     0.42498,     0.42537,     0.42576,     0.42615,\n",
       "            0.42653,     0.42692,     0.42731,      0.4277,     0.42808,     0.42847,     0.42885,     0.42923,     0.42962,        0.43,     0.43038,     0.43076,     0.43115,     0.43173,     0.43263,     0.43352,     0.43441,      0.4353,     0.43619,     0.43707,     0.43794,     0.43882,     0.43969,\n",
       "            0.44076,     0.44192,     0.44308,     0.44423,     0.44538,     0.44653,     0.44767,      0.4488,     0.45306,     0.45782,     0.45847,     0.45862,     0.45877,     0.45892,     0.45907,     0.45922,     0.45937,     0.45952,     0.45967,     0.45982,     0.45997,     0.46012,     0.46027,\n",
       "            0.46042,     0.46057,     0.46072,     0.46087,     0.46102,     0.46117,     0.46132,     0.46147,     0.46162,     0.46177,     0.46192,     0.46206,     0.46221,     0.46236,     0.46251,     0.46266,     0.46281,     0.46296,      0.4631,     0.46325,      0.4634,     0.46355,      0.4637,\n",
       "            0.46384,     0.46399,     0.46414,     0.46429,     0.46443,     0.46458,     0.46473,     0.46488,     0.46502,     0.46517,     0.46532,     0.46546,     0.46561,     0.46576,      0.4659,     0.46605,      0.4662,     0.46634,     0.46649,     0.46663,     0.46678,     0.46693,     0.46707,\n",
       "            0.46722,     0.46736,     0.46751,     0.46765,      0.4678,     0.46795,     0.46836,     0.47535,     0.47954,     0.48175,     0.48393,      0.4861,     0.48824,     0.49158,      0.4954,     0.49915,     0.50312,     0.50711,     0.51102,     0.51257,     0.51368,     0.51478,     0.51588,\n",
       "            0.51697,     0.51806,     0.51914,     0.52022,     0.52129,     0.52235,     0.52341,     0.52534,     0.52776,     0.53015,     0.53252,     0.53487,     0.53663,     0.53678,     0.53694,      0.5371,     0.53726,     0.53741,     0.53757,     0.53773,     0.53788,     0.53804,      0.5382,\n",
       "            0.53835,     0.53851,     0.53867,     0.53882,     0.53898,     0.53914,     0.53929,     0.53945,      0.5396,     0.53976,     0.53991,     0.54007,     0.54022,     0.54038,     0.54053,     0.54069,     0.54084,       0.541,     0.54115,     0.54131,     0.54146,     0.54162,     0.54177,\n",
       "            0.54192,     0.54208,     0.54223,     0.54238,     0.54254,     0.54269,     0.54284,       0.543,     0.54315,      0.5433,     0.54346,     0.54361,     0.54376,     0.54391,     0.54407,     0.54422,     0.54437,     0.54452,     0.54467,     0.54483,     0.54498,     0.54513,     0.54528,\n",
       "            0.54543,     0.54558,     0.54573,     0.54588,     0.54604,     0.54619,     0.54634,     0.54649,     0.54664,     0.54679,     0.54694,     0.54709,     0.54724,     0.54739,     0.54754,     0.54769,     0.54784,     0.54799,     0.54814,     0.54829,     0.54843,     0.54858,     0.54873,\n",
       "            0.54888,     0.54903,     0.54918,     0.54933,     0.54948,     0.54962,     0.54977,     0.54992,     0.55027,     0.55087,     0.55147,     0.55206,     0.55265,     0.55324,     0.55383,     0.55442,       0.555,     0.55559,     0.55617,     0.55675,     0.55733,      0.5579,     0.55848,\n",
       "            0.55905,     0.55962,     0.56019,     0.56076,     0.56133,     0.56189,     0.56246,     0.56302,     0.56358,     0.56412,     0.56439,     0.56467,     0.56494,     0.56521,     0.56548,     0.56575,     0.56602,     0.56629,     0.56656,     0.56683,      0.5671,     0.56737,     0.56763,\n",
       "             0.5679,     0.56817,     0.56843,      0.5687,     0.56897,     0.56923,      0.5695,     0.56976,     0.57003,     0.57029,     0.57056,     0.57082,     0.57108,     0.57135,     0.57161,     0.57187,     0.57213,     0.57239,     0.57266,     0.57292,     0.57318,     0.57344,      0.5737,\n",
       "            0.57396,     0.57421,     0.57447,     0.57473,     0.57499,     0.57525,      0.5755,     0.57576,     0.57602,     0.57627,     0.57653,     0.57679,     0.57704,     0.57729,     0.57755,      0.5778,     0.57806,     0.57831,     0.57856,     0.57882,     0.57924,     0.57985,     0.58045,\n",
       "            0.58105,     0.58166,     0.58225,     0.58285,     0.58345,     0.58404,     0.58463,     0.58522,     0.58581,     0.58639,     0.58698,     0.58756,     0.58814,     0.58872,     0.58929,     0.58987,     0.59044,     0.59101,     0.59158,     0.59215,     0.59271,     0.59328,     0.59384,\n",
       "             0.5944,     0.59504,     0.59572,      0.5964,     0.59707,     0.59774,     0.59841,     0.59908,     0.59974,      0.6004,     0.60106,     0.60172,     0.60237,     0.60303,     0.60368,     0.60432,     0.60497,     0.60561,     0.60625,     0.60689,     0.60752,     0.60816,     0.60879,\n",
       "            0.60942,     0.61004,     0.61067,     0.61078,     0.60962,     0.60847,     0.60731,     0.60615,     0.60499,     0.60383,     0.60266,      0.6015,     0.60033,     0.59916,     0.59799,     0.59682,     0.59565,     0.59448,      0.5933,     0.59212,     0.59094,     0.58976,     0.58858,\n",
       "             0.5874,     0.58621,     0.58503,     0.58384,     0.58265,     0.58146,     0.58027,     0.57907,     0.57788,     0.57668,     0.57548,     0.57428,     0.57308,     0.57187,      0.5718,     0.57239,     0.57297,     0.57355,     0.57413,     0.57471,     0.57528,     0.57586,     0.57643,\n",
       "            0.57699,     0.57756,     0.57812,     0.57869,     0.57925,      0.5798,     0.58036,     0.58091,     0.58146,     0.58201,     0.58256,      0.5831,     0.58365,     0.58419,     0.58472,     0.58526,      0.5858,     0.58633,     0.58686,     0.58739,     0.58791,     0.58843,     0.58895,\n",
       "            0.58946,     0.58996,     0.59047,     0.59097,     0.59148,     0.59198,     0.59248,     0.59297,     0.59347,     0.59396,     0.59445,     0.59494,     0.59543,     0.59592,      0.5964,     0.59689,     0.59737,     0.59785,     0.59833,      0.5988,     0.59928,     0.59975,     0.60022,\n",
       "            0.60069,     0.60116,     0.60163,     0.60209,     0.60255,     0.60302,     0.60348,     0.60393,     0.60439,     0.60485,      0.6053,     0.60575,     0.60534,     0.60306,     0.60076,     0.59846,     0.59616,     0.59384,     0.59152,     0.58919,     0.58685,      0.5845,     0.58215,\n",
       "            0.57979,     0.57742,     0.57504,     0.57266,     0.57026,     0.56786,     0.56545,     0.56303,     0.55595,     0.54745,     0.53885,     0.53015,     0.52134,     0.51161,     0.50055,     0.48934,     0.47795,     0.46661,     0.46428,     0.46194,     0.45959,     0.45724,     0.45488,\n",
       "            0.45251,     0.45014,     0.44775,     0.44536,     0.44297,     0.44056,     0.43815,     0.43573,      0.4333,     0.43087,     0.42843,     0.42598,     0.42352,     0.42105,     0.41858,      0.4161,     0.41216,     0.38936,     0.36591,     0.34863,     0.33501,     0.32117,      0.3071,\n",
       "            0.29464,     0.28779,     0.28088,     0.27392,     0.26691,     0.25983,      0.2527,     0.24551,     0.23826,     0.23095,    0.083333]]), 'Confidence', 'F1'], [array([          0,    0.001001,    0.002002,    0.003003,    0.004004,    0.005005,    0.006006,    0.007007,    0.008008,    0.009009,     0.01001,    0.011011,    0.012012,    0.013013,    0.014014,    0.015015,    0.016016,    0.017017,    0.018018,    0.019019,     0.02002,    0.021021,    0.022022,    0.023023,\n",
       "          0.024024,    0.025025,    0.026026,    0.027027,    0.028028,    0.029029,     0.03003,    0.031031,    0.032032,    0.033033,    0.034034,    0.035035,    0.036036,    0.037037,    0.038038,    0.039039,     0.04004,    0.041041,    0.042042,    0.043043,    0.044044,    0.045045,    0.046046,    0.047047,\n",
       "          0.048048,    0.049049,     0.05005,    0.051051,    0.052052,    0.053053,    0.054054,    0.055055,    0.056056,    0.057057,    0.058058,    0.059059,     0.06006,    0.061061,    0.062062,    0.063063,    0.064064,    0.065065,    0.066066,    0.067067,    0.068068,    0.069069,     0.07007,    0.071071,\n",
       "          0.072072,    0.073073,    0.074074,    0.075075,    0.076076,    0.077077,    0.078078,    0.079079,     0.08008,    0.081081,    0.082082,    0.083083,    0.084084,    0.085085,    0.086086,    0.087087,    0.088088,    0.089089,     0.09009,    0.091091,    0.092092,    0.093093,    0.094094,    0.095095,\n",
       "          0.096096,    0.097097,    0.098098,    0.099099,      0.1001,      0.1011,      0.1021,      0.1031,      0.1041,     0.10511,     0.10611,     0.10711,     0.10811,     0.10911,     0.11011,     0.11111,     0.11211,     0.11311,     0.11411,     0.11512,     0.11612,     0.11712,     0.11812,     0.11912,\n",
       "           0.12012,     0.12112,     0.12212,     0.12312,     0.12412,     0.12513,     0.12613,     0.12713,     0.12813,     0.12913,     0.13013,     0.13113,     0.13213,     0.13313,     0.13413,     0.13514,     0.13614,     0.13714,     0.13814,     0.13914,     0.14014,     0.14114,     0.14214,     0.14314,\n",
       "           0.14414,     0.14515,     0.14615,     0.14715,     0.14815,     0.14915,     0.15015,     0.15115,     0.15215,     0.15315,     0.15415,     0.15516,     0.15616,     0.15716,     0.15816,     0.15916,     0.16016,     0.16116,     0.16216,     0.16316,     0.16416,     0.16517,     0.16617,     0.16717,\n",
       "           0.16817,     0.16917,     0.17017,     0.17117,     0.17217,     0.17317,     0.17417,     0.17518,     0.17618,     0.17718,     0.17818,     0.17918,     0.18018,     0.18118,     0.18218,     0.18318,     0.18418,     0.18519,     0.18619,     0.18719,     0.18819,     0.18919,     0.19019,     0.19119,\n",
       "           0.19219,     0.19319,     0.19419,      0.1952,      0.1962,      0.1972,      0.1982,      0.1992,      0.2002,      0.2012,      0.2022,      0.2032,      0.2042,     0.20521,     0.20621,     0.20721,     0.20821,     0.20921,     0.21021,     0.21121,     0.21221,     0.21321,     0.21421,     0.21522,\n",
       "           0.21622,     0.21722,     0.21822,     0.21922,     0.22022,     0.22122,     0.22222,     0.22322,     0.22422,     0.22523,     0.22623,     0.22723,     0.22823,     0.22923,     0.23023,     0.23123,     0.23223,     0.23323,     0.23423,     0.23524,     0.23624,     0.23724,     0.23824,     0.23924,\n",
       "           0.24024,     0.24124,     0.24224,     0.24324,     0.24424,     0.24525,     0.24625,     0.24725,     0.24825,     0.24925,     0.25025,     0.25125,     0.25225,     0.25325,     0.25425,     0.25526,     0.25626,     0.25726,     0.25826,     0.25926,     0.26026,     0.26126,     0.26226,     0.26326,\n",
       "           0.26426,     0.26527,     0.26627,     0.26727,     0.26827,     0.26927,     0.27027,     0.27127,     0.27227,     0.27327,     0.27427,     0.27528,     0.27628,     0.27728,     0.27828,     0.27928,     0.28028,     0.28128,     0.28228,     0.28328,     0.28428,     0.28529,     0.28629,     0.28729,\n",
       "           0.28829,     0.28929,     0.29029,     0.29129,     0.29229,     0.29329,     0.29429,      0.2953,      0.2963,      0.2973,      0.2983,      0.2993,      0.3003,      0.3013,      0.3023,      0.3033,      0.3043,     0.30531,     0.30631,     0.30731,     0.30831,     0.30931,     0.31031,     0.31131,\n",
       "           0.31231,     0.31331,     0.31431,     0.31532,     0.31632,     0.31732,     0.31832,     0.31932,     0.32032,     0.32132,     0.32232,     0.32332,     0.32432,     0.32533,     0.32633,     0.32733,     0.32833,     0.32933,     0.33033,     0.33133,     0.33233,     0.33333,     0.33433,     0.33534,\n",
       "           0.33634,     0.33734,     0.33834,     0.33934,     0.34034,     0.34134,     0.34234,     0.34334,     0.34434,     0.34535,     0.34635,     0.34735,     0.34835,     0.34935,     0.35035,     0.35135,     0.35235,     0.35335,     0.35435,     0.35536,     0.35636,     0.35736,     0.35836,     0.35936,\n",
       "           0.36036,     0.36136,     0.36236,     0.36336,     0.36436,     0.36537,     0.36637,     0.36737,     0.36837,     0.36937,     0.37037,     0.37137,     0.37237,     0.37337,     0.37437,     0.37538,     0.37638,     0.37738,     0.37838,     0.37938,     0.38038,     0.38138,     0.38238,     0.38338,\n",
       "           0.38438,     0.38539,     0.38639,     0.38739,     0.38839,     0.38939,     0.39039,     0.39139,     0.39239,     0.39339,     0.39439,      0.3954,      0.3964,      0.3974,      0.3984,      0.3994,      0.4004,      0.4014,      0.4024,      0.4034,      0.4044,     0.40541,     0.40641,     0.40741,\n",
       "           0.40841,     0.40941,     0.41041,     0.41141,     0.41241,     0.41341,     0.41441,     0.41542,     0.41642,     0.41742,     0.41842,     0.41942,     0.42042,     0.42142,     0.42242,     0.42342,     0.42442,     0.42543,     0.42643,     0.42743,     0.42843,     0.42943,     0.43043,     0.43143,\n",
       "           0.43243,     0.43343,     0.43443,     0.43544,     0.43644,     0.43744,     0.43844,     0.43944,     0.44044,     0.44144,     0.44244,     0.44344,     0.44444,     0.44545,     0.44645,     0.44745,     0.44845,     0.44945,     0.45045,     0.45145,     0.45245,     0.45345,     0.45445,     0.45546,\n",
       "           0.45646,     0.45746,     0.45846,     0.45946,     0.46046,     0.46146,     0.46246,     0.46346,     0.46446,     0.46547,     0.46647,     0.46747,     0.46847,     0.46947,     0.47047,     0.47147,     0.47247,     0.47347,     0.47447,     0.47548,     0.47648,     0.47748,     0.47848,     0.47948,\n",
       "           0.48048,     0.48148,     0.48248,     0.48348,     0.48448,     0.48549,     0.48649,     0.48749,     0.48849,     0.48949,     0.49049,     0.49149,     0.49249,     0.49349,     0.49449,      0.4955,      0.4965,      0.4975,      0.4985,      0.4995,      0.5005,      0.5015,      0.5025,      0.5035,\n",
       "            0.5045,     0.50551,     0.50651,     0.50751,     0.50851,     0.50951,     0.51051,     0.51151,     0.51251,     0.51351,     0.51451,     0.51552,     0.51652,     0.51752,     0.51852,     0.51952,     0.52052,     0.52152,     0.52252,     0.52352,     0.52452,     0.52553,     0.52653,     0.52753,\n",
       "           0.52853,     0.52953,     0.53053,     0.53153,     0.53253,     0.53353,     0.53453,     0.53554,     0.53654,     0.53754,     0.53854,     0.53954,     0.54054,     0.54154,     0.54254,     0.54354,     0.54454,     0.54555,     0.54655,     0.54755,     0.54855,     0.54955,     0.55055,     0.55155,\n",
       "           0.55255,     0.55355,     0.55455,     0.55556,     0.55656,     0.55756,     0.55856,     0.55956,     0.56056,     0.56156,     0.56256,     0.56356,     0.56456,     0.56557,     0.56657,     0.56757,     0.56857,     0.56957,     0.57057,     0.57157,     0.57257,     0.57357,     0.57457,     0.57558,\n",
       "           0.57658,     0.57758,     0.57858,     0.57958,     0.58058,     0.58158,     0.58258,     0.58358,     0.58458,     0.58559,     0.58659,     0.58759,     0.58859,     0.58959,     0.59059,     0.59159,     0.59259,     0.59359,     0.59459,      0.5956,      0.5966,      0.5976,      0.5986,      0.5996,\n",
       "            0.6006,      0.6016,      0.6026,      0.6036,      0.6046,     0.60561,     0.60661,     0.60761,     0.60861,     0.60961,     0.61061,     0.61161,     0.61261,     0.61361,     0.61461,     0.61562,     0.61662,     0.61762,     0.61862,     0.61962,     0.62062,     0.62162,     0.62262,     0.62362,\n",
       "           0.62462,     0.62563,     0.62663,     0.62763,     0.62863,     0.62963,     0.63063,     0.63163,     0.63263,     0.63363,     0.63463,     0.63564,     0.63664,     0.63764,     0.63864,     0.63964,     0.64064,     0.64164,     0.64264,     0.64364,     0.64464,     0.64565,     0.64665,     0.64765,\n",
       "           0.64865,     0.64965,     0.65065,     0.65165,     0.65265,     0.65365,     0.65465,     0.65566,     0.65666,     0.65766,     0.65866,     0.65966,     0.66066,     0.66166,     0.66266,     0.66366,     0.66466,     0.66567,     0.66667,     0.66767,     0.66867,     0.66967,     0.67067,     0.67167,\n",
       "           0.67267,     0.67367,     0.67467,     0.67568,     0.67668,     0.67768,     0.67868,     0.67968,     0.68068,     0.68168,     0.68268,     0.68368,     0.68468,     0.68569,     0.68669,     0.68769,     0.68869,     0.68969,     0.69069,     0.69169,     0.69269,     0.69369,     0.69469,      0.6957,\n",
       "            0.6967,      0.6977,      0.6987,      0.6997,      0.7007,      0.7017,      0.7027,      0.7037,      0.7047,     0.70571,     0.70671,     0.70771,     0.70871,     0.70971,     0.71071,     0.71171,     0.71271,     0.71371,     0.71471,     0.71572,     0.71672,     0.71772,     0.71872,     0.71972,\n",
       "           0.72072,     0.72172,     0.72272,     0.72372,     0.72472,     0.72573,     0.72673,     0.72773,     0.72873,     0.72973,     0.73073,     0.73173,     0.73273,     0.73373,     0.73473,     0.73574,     0.73674,     0.73774,     0.73874,     0.73974,     0.74074,     0.74174,     0.74274,     0.74374,\n",
       "           0.74474,     0.74575,     0.74675,     0.74775,     0.74875,     0.74975,     0.75075,     0.75175,     0.75275,     0.75375,     0.75475,     0.75576,     0.75676,     0.75776,     0.75876,     0.75976,     0.76076,     0.76176,     0.76276,     0.76376,     0.76476,     0.76577,     0.76677,     0.76777,\n",
       "           0.76877,     0.76977,     0.77077,     0.77177,     0.77277,     0.77377,     0.77477,     0.77578,     0.77678,     0.77778,     0.77878,     0.77978,     0.78078,     0.78178,     0.78278,     0.78378,     0.78478,     0.78579,     0.78679,     0.78779,     0.78879,     0.78979,     0.79079,     0.79179,\n",
       "           0.79279,     0.79379,     0.79479,      0.7958,      0.7968,      0.7978,      0.7988,      0.7998,      0.8008,      0.8018,      0.8028,      0.8038,      0.8048,     0.80581,     0.80681,     0.80781,     0.80881,     0.80981,     0.81081,     0.81181,     0.81281,     0.81381,     0.81481,     0.81582,\n",
       "           0.81682,     0.81782,     0.81882,     0.81982,     0.82082,     0.82182,     0.82282,     0.82382,     0.82482,     0.82583,     0.82683,     0.82783,     0.82883,     0.82983,     0.83083,     0.83183,     0.83283,     0.83383,     0.83483,     0.83584,     0.83684,     0.83784,     0.83884,     0.83984,\n",
       "           0.84084,     0.84184,     0.84284,     0.84384,     0.84484,     0.84585,     0.84685,     0.84785,     0.84885,     0.84985,     0.85085,     0.85185,     0.85285,     0.85385,     0.85485,     0.85586,     0.85686,     0.85786,     0.85886,     0.85986,     0.86086,     0.86186,     0.86286,     0.86386,\n",
       "           0.86486,     0.86587,     0.86687,     0.86787,     0.86887,     0.86987,     0.87087,     0.87187,     0.87287,     0.87387,     0.87487,     0.87588,     0.87688,     0.87788,     0.87888,     0.87988,     0.88088,     0.88188,     0.88288,     0.88388,     0.88488,     0.88589,     0.88689,     0.88789,\n",
       "           0.88889,     0.88989,     0.89089,     0.89189,     0.89289,     0.89389,     0.89489,      0.8959,      0.8969,      0.8979,      0.8989,      0.8999,      0.9009,      0.9019,      0.9029,      0.9039,      0.9049,     0.90591,     0.90691,     0.90791,     0.90891,     0.90991,     0.91091,     0.91191,\n",
       "           0.91291,     0.91391,     0.91491,     0.91592,     0.91692,     0.91792,     0.91892,     0.91992,     0.92092,     0.92192,     0.92292,     0.92392,     0.92492,     0.92593,     0.92693,     0.92793,     0.92893,     0.92993,     0.93093,     0.93193,     0.93293,     0.93393,     0.93493,     0.93594,\n",
       "           0.93694,     0.93794,     0.93894,     0.93994,     0.94094,     0.94194,     0.94294,     0.94394,     0.94494,     0.94595,     0.94695,     0.94795,     0.94895,     0.94995,     0.95095,     0.95195,     0.95295,     0.95395,     0.95495,     0.95596,     0.95696,     0.95796,     0.95896,     0.95996,\n",
       "           0.96096,     0.96196,     0.96296,     0.96396,     0.96496,     0.96597,     0.96697,     0.96797,     0.96897,     0.96997,     0.97097,     0.97197,     0.97297,     0.97397,     0.97497,     0.97598,     0.97698,     0.97798,     0.97898,     0.97998,     0.98098,     0.98198,     0.98298,     0.98398,\n",
       "           0.98498,     0.98599,     0.98699,     0.98799,     0.98899,     0.98999,     0.99099,     0.99199,     0.99299,     0.99399,     0.99499,       0.996,       0.997,       0.998,       0.999,           1]), array([[   0.020428,    0.020428,    0.027666,    0.032862,    0.035901,    0.039417,    0.040518,    0.043027,    0.045139,    0.047964,    0.050257,    0.049119,    0.050851,    0.053238,    0.055052,    0.053249,     0.05483,    0.055406,     0.05634,    0.057713,    0.059182,    0.060422,    0.061514,\n",
       "            0.06295,    0.063599,    0.064033,    0.065185,    0.067089,    0.069242,     0.07126,    0.072239,    0.073144,    0.074053,    0.074665,    0.075758,    0.076528,    0.078061,     0.07853,    0.079175,    0.080169,    0.082286,     0.08385,    0.084718,    0.085227,    0.085573,    0.085821,\n",
       "           0.086519,    0.087588,    0.088085,    0.088271,    0.088457,     0.08965,    0.090241,    0.090821,    0.091505,    0.091737,    0.091998,    0.092319,    0.093829,    0.094833,    0.096441,    0.097679,     0.09863,    0.099269,     0.10013,      0.1003,     0.10048,     0.10088,     0.10169,\n",
       "           0.097312,      0.0979,    0.098229,    0.098407,    0.098584,    0.098761,     0.10014,     0.10061,    0.097411,    0.095039,    0.095436,    0.095779,    0.096103,    0.096374,    0.096635,    0.097117,     0.09768,    0.098482,    0.099531,    0.099778,     0.10055,     0.10178,     0.10223,\n",
       "            0.10249,     0.10285,     0.10432,     0.10642,     0.10699,      0.1083,     0.10918,     0.10979,     0.11027,     0.11176,     0.11221,     0.11252,     0.11372,     0.11425,     0.11553,     0.11598,     0.11676,     0.11907,     0.11923,     0.11938,     0.11953,     0.11968,     0.11984,\n",
       "            0.11999,     0.12057,     0.12179,     0.12233,     0.12274,     0.12343,     0.12474,     0.12521,     0.12546,     0.12571,     0.12596,      0.1285,     0.12926,     0.13105,     0.13219,     0.13405,     0.13504,     0.13638,      0.1366,     0.13683,     0.13706,     0.13729,     0.13752,\n",
       "            0.13846,     0.13952,     0.14026,     0.14053,     0.14081,     0.14109,     0.14137,     0.14286,     0.14342,     0.14399,     0.13595,     0.13629,     0.13663,     0.13697,     0.13727,     0.13739,      0.1375,     0.13762,     0.13773,     0.13784,     0.13796,     0.13807,     0.13818,\n",
       "             0.1383,     0.13841,     0.13853,     0.13866,     0.13887,     0.13908,     0.13929,      0.1395,     0.13971,     0.13992,     0.14027,      0.1407,     0.14113,     0.14187,     0.14346,      0.1355,     0.13695,     0.13714,     0.13733,     0.13752,     0.13772,     0.13791,      0.1381,\n",
       "            0.13829,     0.13915,     0.13985,     0.14008,     0.14031,     0.14054,     0.14077,       0.141,     0.14123,     0.14174,     0.14238,      0.1429,     0.14306,     0.14321,     0.14337,     0.14353,     0.14369,     0.14385,     0.14401,     0.14417,     0.14433,     0.14511,     0.14752,\n",
       "            0.14963,     0.15031,     0.15098,     0.15167,     0.15237,     0.15299,      0.1533,      0.1536,     0.15391,     0.15421,     0.15452,     0.15504,     0.15643,     0.14849,     0.14987,     0.15246,     0.15469,     0.15647,      0.1608,     0.16224,     0.16278,     0.16332,     0.16385,\n",
       "            0.16439,      0.1661,     0.16738,     0.16845,     0.16935,     0.17005,     0.17076,     0.17161,     0.17415,     0.17487,     0.17559,     0.17632,     0.17659,     0.17675,     0.17691,     0.17706,     0.17722,     0.17738,     0.17753,     0.17769,     0.17785,       0.178,     0.17816,\n",
       "            0.17832,     0.17847,     0.17863,     0.17878,     0.17894,      0.1791,     0.17931,     0.17952,     0.17973,     0.17994,     0.18015,     0.18036,     0.18057,     0.18078,     0.18098,     0.18119,      0.1814,     0.18161,     0.18194,      0.1858,     0.19226,     0.19386,     0.19438,\n",
       "             0.1949,     0.19542,     0.19594,     0.19646,     0.19698,     0.19749,     0.19801,     0.19853,     0.19905,     0.19956,     0.20071,     0.20357,     0.20401,     0.20444,     0.20488,     0.20532,     0.20575,     0.20619,     0.20662,     0.20745,     0.20894,     0.21043,     0.21258,\n",
       "            0.21465,     0.21625,     0.21784,     0.21857,     0.21905,     0.21954,     0.22003,     0.22051,       0.221,     0.22149,     0.22198,     0.22253,     0.22314,     0.22375,     0.22437,     0.22498,      0.2256,     0.22621,      0.2266,     0.22689,     0.22717,     0.22745,     0.22774,\n",
       "            0.22802,      0.2283,     0.22859,     0.22887,     0.22915,     0.22944,     0.22972,        0.23,     0.23029,     0.23057,     0.23157,     0.23422,     0.23634,     0.23809,     0.23984,     0.24073,     0.24153,     0.24234,     0.24314,     0.24394,     0.24475,     0.24584,     0.24701,\n",
       "            0.24817,     0.24933,     0.25308,     0.25592,      0.2568,     0.25767,     0.25855,     0.25943,      0.2603,     0.26125,     0.26233,     0.26341,     0.26449,     0.26557,     0.26665,     0.27275,     0.27511,     0.27748,     0.27988,     0.28235,     0.28483,     0.28834,     0.29242,\n",
       "            0.29416,     0.29574,     0.29732,      0.2989,     0.29883,     0.29496,     0.29108,     0.28721,     0.28334,     0.28495,      0.2893,     0.29153,     0.29367,      0.2958,     0.29742,     0.29782,     0.29823,     0.29863,     0.29903,     0.29943,     0.29984,     0.30024,     0.30064,\n",
       "            0.30105,     0.30145,     0.30185,     0.30226,     0.30266,     0.30306,     0.30347,     0.30387,     0.30427,     0.30467,     0.30508,     0.30548,     0.30578,     0.30606,     0.30634,     0.30661,     0.30689,     0.30717,     0.30745,     0.30772,       0.308,     0.30828,     0.30856,\n",
       "            0.30883,     0.30911,     0.30939,     0.30967,     0.30994,     0.31022,      0.3105,     0.31078,     0.31105,     0.31133,     0.31161,     0.31189,     0.31216,     0.31244,     0.31272,       0.313,     0.31327,     0.31355,     0.31383,     0.31411,     0.32447,     0.32715,     0.32983,\n",
       "            0.33251,     0.33407,     0.33514,     0.33621,     0.33728,     0.33834,     0.33941,     0.34048,     0.34155,     0.34262,     0.34368,     0.34513,     0.34659,     0.34806,     0.34953,     0.35099,     0.35246,     0.35392,     0.35636,      0.3604,     0.36444,     0.36701,     0.36777,\n",
       "            0.36853,      0.3693,     0.37006,     0.37082,     0.37158,     0.37235,     0.37311,     0.37387,     0.37463,      0.3754,     0.37616,     0.37692,     0.37768,     0.37845,     0.37921,     0.37986,     0.38049,     0.38112,     0.38175,     0.38238,     0.38301,     0.38364,     0.38427,\n",
       "            0.38491,     0.38554,     0.38617,      0.3868,     0.38743,     0.38806,     0.38869,     0.38932,     0.38996,     0.39059,     0.39122,     0.39185,     0.39248,     0.39346,     0.39495,     0.39644,     0.39793,     0.39942,     0.40091,     0.40241,      0.4039,     0.40539,     0.40688,\n",
       "            0.40871,     0.41071,     0.41272,     0.41473,     0.41674,     0.41874,     0.42075,     0.42276,     0.43038,     0.43905,     0.44025,     0.44053,      0.4408,     0.44108,     0.44136,     0.44164,     0.44192,      0.4422,     0.44248,     0.44275,     0.44303,     0.44331,     0.44359,\n",
       "            0.44387,     0.44415,     0.44442,      0.4447,     0.44498,     0.44526,     0.44554,     0.44582,     0.44609,     0.44637,     0.44665,     0.44693,     0.44721,     0.44749,     0.44776,     0.44804,     0.44832,      0.4486,     0.44888,     0.44916,     0.44944,     0.44971,     0.44999,\n",
       "            0.45027,     0.45055,     0.45083,     0.45111,     0.45138,     0.45166,     0.45194,     0.45222,      0.4525,     0.45278,     0.45305,     0.45333,     0.45361,     0.45389,     0.45417,     0.45445,     0.45472,       0.455,     0.45528,     0.45556,     0.45584,     0.45612,      0.4564,\n",
       "            0.45667,     0.45695,     0.45723,     0.45751,     0.45779,     0.45807,     0.45886,     0.47248,     0.48082,     0.48528,     0.48974,     0.49419,     0.49865,     0.50567,     0.51381,     0.52194,      0.5307,     0.53965,      0.5486,     0.55218,     0.55476,     0.55734,     0.55992,\n",
       "             0.5625,     0.56508,     0.56766,     0.57024,     0.57282,      0.5754,     0.57798,     0.58269,     0.58869,     0.59468,     0.60067,     0.60667,     0.61122,     0.61163,     0.61204,     0.61245,     0.61285,     0.61326,     0.61367,     0.61408,     0.61449,      0.6149,     0.61531,\n",
       "            0.61572,     0.61613,     0.61654,     0.61695,     0.61736,     0.61777,     0.61818,     0.61859,       0.619,     0.61941,     0.61981,     0.62022,     0.62063,     0.62104,     0.62145,     0.62186,     0.62227,     0.62268,     0.62309,      0.6235,     0.62391,     0.62432,     0.62473,\n",
       "            0.62514,     0.62555,     0.62596,     0.62637,     0.62677,     0.62718,     0.62759,       0.628,     0.62841,     0.62882,     0.62923,     0.62964,     0.63005,     0.63046,     0.63087,     0.63128,     0.63169,      0.6321,     0.63251,     0.63292,     0.63333,     0.63373,     0.63414,\n",
       "            0.63455,     0.63496,     0.63537,     0.63578,     0.63619,      0.6366,     0.63701,     0.63742,     0.63783,     0.63824,     0.63865,     0.63906,     0.63947,     0.63988,     0.64029,     0.64069,      0.6411,     0.64151,     0.64192,     0.64233,     0.64274,     0.64315,     0.64356,\n",
       "            0.64397,     0.64438,     0.64479,      0.6452,     0.64561,     0.64602,     0.64643,     0.64684,     0.64782,     0.64947,     0.65113,     0.65279,     0.65445,     0.65611,     0.65776,     0.65942,     0.66108,     0.66274,      0.6644,     0.66605,     0.66771,     0.66937,     0.67103,\n",
       "            0.67269,     0.67435,       0.676,     0.67766,     0.67932,     0.68098,     0.68264,     0.68429,     0.68595,     0.68755,     0.68836,     0.68917,     0.68998,     0.69079,      0.6916,     0.69241,     0.69322,     0.69403,     0.69484,     0.69565,     0.69646,     0.69727,     0.69808,\n",
       "            0.69889,      0.6997,     0.70051,     0.70132,     0.70213,     0.70294,     0.70375,     0.70456,     0.70537,     0.70618,     0.70699,      0.7078,     0.70861,     0.70942,     0.71023,     0.71104,     0.71185,     0.71266,     0.71347,     0.71428,     0.71509,      0.7159,     0.71671,\n",
       "            0.71752,     0.71833,     0.71914,     0.71995,     0.72076,     0.72157,     0.72238,     0.72319,       0.724,     0.72481,     0.72562,     0.72643,     0.72724,     0.72805,     0.72886,     0.72967,     0.73048,     0.73129,      0.7321,     0.73291,     0.73428,     0.73623,     0.73818,\n",
       "            0.74013,     0.74208,     0.74404,     0.74599,     0.74794,     0.74989,     0.75185,      0.7538,     0.75575,      0.7577,     0.75966,     0.76161,     0.76356,     0.76551,     0.76747,     0.76942,     0.77137,     0.77332,     0.77528,     0.77723,     0.77918,     0.78113,     0.78309,\n",
       "            0.78504,     0.78727,     0.78965,     0.79204,     0.79442,      0.7968,     0.79919,     0.80157,     0.80395,     0.80633,     0.80872,      0.8111,     0.81348,     0.81587,     0.81825,     0.82063,     0.82301,      0.8254,     0.82778,     0.83016,     0.83254,     0.83493,     0.83731,\n",
       "            0.83969,     0.84208,     0.84446,     0.84604,     0.84566,     0.84528,      0.8449,     0.84452,     0.84414,     0.84376,     0.84338,       0.843,     0.84262,     0.84223,     0.84185,     0.84147,     0.84109,     0.84071,     0.84033,     0.83995,     0.83957,     0.83919,     0.83881,\n",
       "            0.83843,     0.83804,     0.83766,     0.83728,      0.8369,     0.83652,     0.83614,     0.83576,     0.83538,       0.835,     0.83462,     0.83424,     0.83385,     0.83347,     0.83491,     0.83742,     0.83992,     0.84243,     0.84493,     0.84744,     0.84994,     0.85245,     0.85495,\n",
       "            0.85746,     0.85996,     0.86247,     0.86497,     0.86748,     0.86998,     0.87249,     0.87499,      0.8775,        0.88,     0.88251,     0.88501,     0.88752,     0.89002,     0.89253,     0.89503,     0.89754,     0.90004,     0.90255,     0.90505,     0.90756,     0.91004,     0.91249,\n",
       "            0.91495,      0.9174,     0.91985,      0.9223,     0.92475,     0.92721,     0.92966,     0.93211,     0.93456,     0.93702,     0.93947,     0.94192,     0.94437,     0.94682,     0.94928,     0.95173,     0.95418,     0.95663,     0.95909,     0.96154,     0.96399,     0.96644,     0.96889,\n",
       "            0.97135,      0.9738,     0.97625,      0.9787,     0.98116,     0.98361,     0.98606,     0.98851,     0.99096,     0.99342,     0.99587,     0.99832,           1,           1,           1,           1,           1,           1,           1,           1,           1,           1,           1,\n",
       "                  1,           1,           1,           1,           1,           1,           1,           1,           1,           1,           1,           1,           1,           1,           1,           1,           1,           1,           1,           1,           1,           1,           1,\n",
       "                  1,           1,           1,           1,           1,           1,           1,           1,           1,           1,           1,           1,           1,           1,           1,           1,           1,           1,           1,           1,           1,           1,           1,\n",
       "                  1,           1,           1,           1,           1,           1,           1,           1,           1,           1,           1]]), 'Confidence', 'Precision'], [array([          0,    0.001001,    0.002002,    0.003003,    0.004004,    0.005005,    0.006006,    0.007007,    0.008008,    0.009009,     0.01001,    0.011011,    0.012012,    0.013013,    0.014014,    0.015015,    0.016016,    0.017017,    0.018018,    0.019019,     0.02002,    0.021021,    0.022022,    0.023023,\n",
       "          0.024024,    0.025025,    0.026026,    0.027027,    0.028028,    0.029029,     0.03003,    0.031031,    0.032032,    0.033033,    0.034034,    0.035035,    0.036036,    0.037037,    0.038038,    0.039039,     0.04004,    0.041041,    0.042042,    0.043043,    0.044044,    0.045045,    0.046046,    0.047047,\n",
       "          0.048048,    0.049049,     0.05005,    0.051051,    0.052052,    0.053053,    0.054054,    0.055055,    0.056056,    0.057057,    0.058058,    0.059059,     0.06006,    0.061061,    0.062062,    0.063063,    0.064064,    0.065065,    0.066066,    0.067067,    0.068068,    0.069069,     0.07007,    0.071071,\n",
       "          0.072072,    0.073073,    0.074074,    0.075075,    0.076076,    0.077077,    0.078078,    0.079079,     0.08008,    0.081081,    0.082082,    0.083083,    0.084084,    0.085085,    0.086086,    0.087087,    0.088088,    0.089089,     0.09009,    0.091091,    0.092092,    0.093093,    0.094094,    0.095095,\n",
       "          0.096096,    0.097097,    0.098098,    0.099099,      0.1001,      0.1011,      0.1021,      0.1031,      0.1041,     0.10511,     0.10611,     0.10711,     0.10811,     0.10911,     0.11011,     0.11111,     0.11211,     0.11311,     0.11411,     0.11512,     0.11612,     0.11712,     0.11812,     0.11912,\n",
       "           0.12012,     0.12112,     0.12212,     0.12312,     0.12412,     0.12513,     0.12613,     0.12713,     0.12813,     0.12913,     0.13013,     0.13113,     0.13213,     0.13313,     0.13413,     0.13514,     0.13614,     0.13714,     0.13814,     0.13914,     0.14014,     0.14114,     0.14214,     0.14314,\n",
       "           0.14414,     0.14515,     0.14615,     0.14715,     0.14815,     0.14915,     0.15015,     0.15115,     0.15215,     0.15315,     0.15415,     0.15516,     0.15616,     0.15716,     0.15816,     0.15916,     0.16016,     0.16116,     0.16216,     0.16316,     0.16416,     0.16517,     0.16617,     0.16717,\n",
       "           0.16817,     0.16917,     0.17017,     0.17117,     0.17217,     0.17317,     0.17417,     0.17518,     0.17618,     0.17718,     0.17818,     0.17918,     0.18018,     0.18118,     0.18218,     0.18318,     0.18418,     0.18519,     0.18619,     0.18719,     0.18819,     0.18919,     0.19019,     0.19119,\n",
       "           0.19219,     0.19319,     0.19419,      0.1952,      0.1962,      0.1972,      0.1982,      0.1992,      0.2002,      0.2012,      0.2022,      0.2032,      0.2042,     0.20521,     0.20621,     0.20721,     0.20821,     0.20921,     0.21021,     0.21121,     0.21221,     0.21321,     0.21421,     0.21522,\n",
       "           0.21622,     0.21722,     0.21822,     0.21922,     0.22022,     0.22122,     0.22222,     0.22322,     0.22422,     0.22523,     0.22623,     0.22723,     0.22823,     0.22923,     0.23023,     0.23123,     0.23223,     0.23323,     0.23423,     0.23524,     0.23624,     0.23724,     0.23824,     0.23924,\n",
       "           0.24024,     0.24124,     0.24224,     0.24324,     0.24424,     0.24525,     0.24625,     0.24725,     0.24825,     0.24925,     0.25025,     0.25125,     0.25225,     0.25325,     0.25425,     0.25526,     0.25626,     0.25726,     0.25826,     0.25926,     0.26026,     0.26126,     0.26226,     0.26326,\n",
       "           0.26426,     0.26527,     0.26627,     0.26727,     0.26827,     0.26927,     0.27027,     0.27127,     0.27227,     0.27327,     0.27427,     0.27528,     0.27628,     0.27728,     0.27828,     0.27928,     0.28028,     0.28128,     0.28228,     0.28328,     0.28428,     0.28529,     0.28629,     0.28729,\n",
       "           0.28829,     0.28929,     0.29029,     0.29129,     0.29229,     0.29329,     0.29429,      0.2953,      0.2963,      0.2973,      0.2983,      0.2993,      0.3003,      0.3013,      0.3023,      0.3033,      0.3043,     0.30531,     0.30631,     0.30731,     0.30831,     0.30931,     0.31031,     0.31131,\n",
       "           0.31231,     0.31331,     0.31431,     0.31532,     0.31632,     0.31732,     0.31832,     0.31932,     0.32032,     0.32132,     0.32232,     0.32332,     0.32432,     0.32533,     0.32633,     0.32733,     0.32833,     0.32933,     0.33033,     0.33133,     0.33233,     0.33333,     0.33433,     0.33534,\n",
       "           0.33634,     0.33734,     0.33834,     0.33934,     0.34034,     0.34134,     0.34234,     0.34334,     0.34434,     0.34535,     0.34635,     0.34735,     0.34835,     0.34935,     0.35035,     0.35135,     0.35235,     0.35335,     0.35435,     0.35536,     0.35636,     0.35736,     0.35836,     0.35936,\n",
       "           0.36036,     0.36136,     0.36236,     0.36336,     0.36436,     0.36537,     0.36637,     0.36737,     0.36837,     0.36937,     0.37037,     0.37137,     0.37237,     0.37337,     0.37437,     0.37538,     0.37638,     0.37738,     0.37838,     0.37938,     0.38038,     0.38138,     0.38238,     0.38338,\n",
       "           0.38438,     0.38539,     0.38639,     0.38739,     0.38839,     0.38939,     0.39039,     0.39139,     0.39239,     0.39339,     0.39439,      0.3954,      0.3964,      0.3974,      0.3984,      0.3994,      0.4004,      0.4014,      0.4024,      0.4034,      0.4044,     0.40541,     0.40641,     0.40741,\n",
       "           0.40841,     0.40941,     0.41041,     0.41141,     0.41241,     0.41341,     0.41441,     0.41542,     0.41642,     0.41742,     0.41842,     0.41942,     0.42042,     0.42142,     0.42242,     0.42342,     0.42442,     0.42543,     0.42643,     0.42743,     0.42843,     0.42943,     0.43043,     0.43143,\n",
       "           0.43243,     0.43343,     0.43443,     0.43544,     0.43644,     0.43744,     0.43844,     0.43944,     0.44044,     0.44144,     0.44244,     0.44344,     0.44444,     0.44545,     0.44645,     0.44745,     0.44845,     0.44945,     0.45045,     0.45145,     0.45245,     0.45345,     0.45445,     0.45546,\n",
       "           0.45646,     0.45746,     0.45846,     0.45946,     0.46046,     0.46146,     0.46246,     0.46346,     0.46446,     0.46547,     0.46647,     0.46747,     0.46847,     0.46947,     0.47047,     0.47147,     0.47247,     0.47347,     0.47447,     0.47548,     0.47648,     0.47748,     0.47848,     0.47948,\n",
       "           0.48048,     0.48148,     0.48248,     0.48348,     0.48448,     0.48549,     0.48649,     0.48749,     0.48849,     0.48949,     0.49049,     0.49149,     0.49249,     0.49349,     0.49449,      0.4955,      0.4965,      0.4975,      0.4985,      0.4995,      0.5005,      0.5015,      0.5025,      0.5035,\n",
       "            0.5045,     0.50551,     0.50651,     0.50751,     0.50851,     0.50951,     0.51051,     0.51151,     0.51251,     0.51351,     0.51451,     0.51552,     0.51652,     0.51752,     0.51852,     0.51952,     0.52052,     0.52152,     0.52252,     0.52352,     0.52452,     0.52553,     0.52653,     0.52753,\n",
       "           0.52853,     0.52953,     0.53053,     0.53153,     0.53253,     0.53353,     0.53453,     0.53554,     0.53654,     0.53754,     0.53854,     0.53954,     0.54054,     0.54154,     0.54254,     0.54354,     0.54454,     0.54555,     0.54655,     0.54755,     0.54855,     0.54955,     0.55055,     0.55155,\n",
       "           0.55255,     0.55355,     0.55455,     0.55556,     0.55656,     0.55756,     0.55856,     0.55956,     0.56056,     0.56156,     0.56256,     0.56356,     0.56456,     0.56557,     0.56657,     0.56757,     0.56857,     0.56957,     0.57057,     0.57157,     0.57257,     0.57357,     0.57457,     0.57558,\n",
       "           0.57658,     0.57758,     0.57858,     0.57958,     0.58058,     0.58158,     0.58258,     0.58358,     0.58458,     0.58559,     0.58659,     0.58759,     0.58859,     0.58959,     0.59059,     0.59159,     0.59259,     0.59359,     0.59459,      0.5956,      0.5966,      0.5976,      0.5986,      0.5996,\n",
       "            0.6006,      0.6016,      0.6026,      0.6036,      0.6046,     0.60561,     0.60661,     0.60761,     0.60861,     0.60961,     0.61061,     0.61161,     0.61261,     0.61361,     0.61461,     0.61562,     0.61662,     0.61762,     0.61862,     0.61962,     0.62062,     0.62162,     0.62262,     0.62362,\n",
       "           0.62462,     0.62563,     0.62663,     0.62763,     0.62863,     0.62963,     0.63063,     0.63163,     0.63263,     0.63363,     0.63463,     0.63564,     0.63664,     0.63764,     0.63864,     0.63964,     0.64064,     0.64164,     0.64264,     0.64364,     0.64464,     0.64565,     0.64665,     0.64765,\n",
       "           0.64865,     0.64965,     0.65065,     0.65165,     0.65265,     0.65365,     0.65465,     0.65566,     0.65666,     0.65766,     0.65866,     0.65966,     0.66066,     0.66166,     0.66266,     0.66366,     0.66466,     0.66567,     0.66667,     0.66767,     0.66867,     0.66967,     0.67067,     0.67167,\n",
       "           0.67267,     0.67367,     0.67467,     0.67568,     0.67668,     0.67768,     0.67868,     0.67968,     0.68068,     0.68168,     0.68268,     0.68368,     0.68468,     0.68569,     0.68669,     0.68769,     0.68869,     0.68969,     0.69069,     0.69169,     0.69269,     0.69369,     0.69469,      0.6957,\n",
       "            0.6967,      0.6977,      0.6987,      0.6997,      0.7007,      0.7017,      0.7027,      0.7037,      0.7047,     0.70571,     0.70671,     0.70771,     0.70871,     0.70971,     0.71071,     0.71171,     0.71271,     0.71371,     0.71471,     0.71572,     0.71672,     0.71772,     0.71872,     0.71972,\n",
       "           0.72072,     0.72172,     0.72272,     0.72372,     0.72472,     0.72573,     0.72673,     0.72773,     0.72873,     0.72973,     0.73073,     0.73173,     0.73273,     0.73373,     0.73473,     0.73574,     0.73674,     0.73774,     0.73874,     0.73974,     0.74074,     0.74174,     0.74274,     0.74374,\n",
       "           0.74474,     0.74575,     0.74675,     0.74775,     0.74875,     0.74975,     0.75075,     0.75175,     0.75275,     0.75375,     0.75475,     0.75576,     0.75676,     0.75776,     0.75876,     0.75976,     0.76076,     0.76176,     0.76276,     0.76376,     0.76476,     0.76577,     0.76677,     0.76777,\n",
       "           0.76877,     0.76977,     0.77077,     0.77177,     0.77277,     0.77377,     0.77477,     0.77578,     0.77678,     0.77778,     0.77878,     0.77978,     0.78078,     0.78178,     0.78278,     0.78378,     0.78478,     0.78579,     0.78679,     0.78779,     0.78879,     0.78979,     0.79079,     0.79179,\n",
       "           0.79279,     0.79379,     0.79479,      0.7958,      0.7968,      0.7978,      0.7988,      0.7998,      0.8008,      0.8018,      0.8028,      0.8038,      0.8048,     0.80581,     0.80681,     0.80781,     0.80881,     0.80981,     0.81081,     0.81181,     0.81281,     0.81381,     0.81481,     0.81582,\n",
       "           0.81682,     0.81782,     0.81882,     0.81982,     0.82082,     0.82182,     0.82282,     0.82382,     0.82482,     0.82583,     0.82683,     0.82783,     0.82883,     0.82983,     0.83083,     0.83183,     0.83283,     0.83383,     0.83483,     0.83584,     0.83684,     0.83784,     0.83884,     0.83984,\n",
       "           0.84084,     0.84184,     0.84284,     0.84384,     0.84484,     0.84585,     0.84685,     0.84785,     0.84885,     0.84985,     0.85085,     0.85185,     0.85285,     0.85385,     0.85485,     0.85586,     0.85686,     0.85786,     0.85886,     0.85986,     0.86086,     0.86186,     0.86286,     0.86386,\n",
       "           0.86486,     0.86587,     0.86687,     0.86787,     0.86887,     0.86987,     0.87087,     0.87187,     0.87287,     0.87387,     0.87487,     0.87588,     0.87688,     0.87788,     0.87888,     0.87988,     0.88088,     0.88188,     0.88288,     0.88388,     0.88488,     0.88589,     0.88689,     0.88789,\n",
       "           0.88889,     0.88989,     0.89089,     0.89189,     0.89289,     0.89389,     0.89489,      0.8959,      0.8969,      0.8979,      0.8989,      0.8999,      0.9009,      0.9019,      0.9029,      0.9039,      0.9049,     0.90591,     0.90691,     0.90791,     0.90891,     0.90991,     0.91091,     0.91191,\n",
       "           0.91291,     0.91391,     0.91491,     0.91592,     0.91692,     0.91792,     0.91892,     0.91992,     0.92092,     0.92192,     0.92292,     0.92392,     0.92492,     0.92593,     0.92693,     0.92793,     0.92893,     0.92993,     0.93093,     0.93193,     0.93293,     0.93393,     0.93493,     0.93594,\n",
       "           0.93694,     0.93794,     0.93894,     0.93994,     0.94094,     0.94194,     0.94294,     0.94394,     0.94494,     0.94595,     0.94695,     0.94795,     0.94895,     0.94995,     0.95095,     0.95195,     0.95295,     0.95395,     0.95495,     0.95596,     0.95696,     0.95796,     0.95896,     0.95996,\n",
       "           0.96096,     0.96196,     0.96296,     0.96396,     0.96496,     0.96597,     0.96697,     0.96797,     0.96897,     0.96997,     0.97097,     0.97197,     0.97297,     0.97397,     0.97497,     0.97598,     0.97698,     0.97798,     0.97898,     0.97998,     0.98098,     0.98198,     0.98298,     0.98398,\n",
       "           0.98498,     0.98599,     0.98699,     0.98799,     0.98899,     0.98999,     0.99099,     0.99199,     0.99299,     0.99399,     0.99499,       0.996,       0.997,       0.998,       0.999,           1]), array([[    0.91304,     0.91304,     0.91304,     0.91304,     0.86957,     0.86957,     0.82609,     0.82609,     0.82609,     0.82609,     0.82596,     0.78261,     0.78261,     0.78261,     0.78261,     0.73913,     0.73913,     0.73913,     0.73913,     0.73913,     0.73913,     0.73913,     0.73913,\n",
       "            0.73913,     0.73913,     0.73913,     0.73913,     0.73913,     0.73913,     0.73913,     0.73913,     0.73913,     0.73913,     0.73913,     0.73913,     0.73913,     0.73913,     0.73913,     0.73913,     0.73913,     0.73913,     0.73913,     0.73913,     0.73913,     0.73913,     0.73913,\n",
       "            0.73913,     0.73913,     0.73913,     0.73913,     0.73913,     0.73913,     0.73913,     0.73913,     0.73913,     0.73913,     0.73913,     0.73913,     0.73913,     0.73913,     0.73913,     0.73913,     0.73913,     0.73913,     0.73913,     0.73913,     0.73913,     0.73913,     0.73831,\n",
       "            0.69565,     0.69565,     0.69565,     0.69565,     0.69565,     0.69565,     0.69565,     0.69565,     0.67107,     0.65217,     0.65217,     0.65217,     0.65217,     0.65217,     0.65217,     0.65217,     0.65217,     0.65217,     0.65217,     0.65217,     0.65217,     0.65217,     0.65217,\n",
       "            0.65217,     0.65217,     0.65217,     0.65217,     0.65217,     0.65217,     0.65217,     0.65217,     0.65217,     0.65217,     0.65217,     0.65217,     0.65217,     0.65217,     0.65217,     0.65217,     0.65217,     0.65217,     0.65217,     0.65217,     0.65217,     0.65217,     0.65217,\n",
       "            0.65217,     0.65217,     0.65217,     0.65217,     0.65217,     0.65217,     0.65217,     0.65217,     0.65217,     0.65217,     0.65217,     0.65217,     0.65217,     0.65217,     0.65217,     0.65217,     0.65217,     0.65217,     0.65217,     0.65217,     0.65217,     0.65217,     0.65217,\n",
       "            0.65217,     0.65217,     0.65217,     0.65217,     0.65217,     0.65217,     0.65217,     0.65217,     0.65217,     0.65217,      0.6087,      0.6087,      0.6087,      0.6087,      0.6087,      0.6087,      0.6087,      0.6087,      0.6087,      0.6087,      0.6087,      0.6087,      0.6087,\n",
       "             0.6087,      0.6087,      0.6087,      0.6087,      0.6087,      0.6087,      0.6087,      0.6087,      0.6087,      0.6087,      0.6087,      0.6087,      0.6087,      0.6087,      0.6087,     0.56522,     0.56522,     0.56522,     0.56522,     0.56522,     0.56522,     0.56522,     0.56522,\n",
       "            0.56522,     0.56522,     0.56522,     0.56522,     0.56522,     0.56522,     0.56522,     0.56522,     0.56522,     0.56522,     0.56522,     0.56522,     0.56522,     0.56522,     0.56522,     0.56522,     0.56522,     0.56522,     0.56522,     0.56522,     0.56522,     0.56522,     0.56522,\n",
       "            0.56522,     0.56522,     0.56522,     0.56522,     0.56522,     0.56522,     0.56522,     0.56522,     0.56522,     0.56522,     0.56522,     0.56522,     0.56522,     0.52174,     0.52174,     0.52174,     0.52174,     0.52174,     0.52174,     0.52174,     0.52174,     0.52174,     0.52174,\n",
       "            0.52174,     0.52174,     0.52174,     0.52174,     0.52174,     0.52174,     0.52174,     0.52174,     0.52174,     0.52174,     0.52174,     0.52174,     0.52174,     0.52174,     0.52174,     0.52174,     0.52174,     0.52174,     0.52174,     0.52174,     0.52174,     0.52174,     0.52174,\n",
       "            0.52174,     0.52174,     0.52174,     0.52174,     0.52174,     0.52174,     0.52174,     0.52174,     0.52174,     0.52174,     0.52174,     0.52174,     0.52174,     0.52174,     0.52174,     0.52174,     0.52174,     0.52174,     0.52174,     0.52174,     0.52174,     0.52174,     0.52174,\n",
       "            0.52174,     0.52174,     0.52174,     0.52174,     0.52174,     0.52174,     0.52174,     0.52174,     0.52174,     0.52174,     0.52174,     0.52174,     0.52174,     0.52174,     0.52174,     0.52174,     0.52174,     0.52174,     0.52174,     0.52174,     0.52174,     0.52174,     0.52174,\n",
       "            0.52174,     0.52174,     0.52174,     0.52174,     0.52174,     0.52174,     0.52174,     0.52174,     0.52174,     0.52174,     0.52174,     0.52174,     0.52174,     0.52174,     0.52174,     0.52174,     0.52174,     0.52174,     0.52174,     0.52174,     0.52174,     0.52174,     0.52174,\n",
       "            0.52174,     0.52174,     0.52174,     0.52174,     0.52174,     0.52174,     0.52174,     0.52174,     0.52174,     0.52174,     0.52174,     0.52174,     0.52174,     0.52174,     0.52174,     0.52174,     0.52174,     0.52174,     0.52174,     0.52174,     0.52174,     0.52174,     0.52174,\n",
       "            0.52174,     0.52174,     0.52174,     0.52174,     0.52174,     0.52174,     0.52174,     0.52174,     0.52174,     0.52174,     0.52174,     0.52174,     0.52174,     0.52174,     0.52174,     0.52174,     0.52174,     0.52174,     0.52174,     0.52174,     0.52174,     0.52174,     0.52174,\n",
       "            0.52174,     0.52174,     0.52174,     0.52174,     0.51891,     0.50953,     0.50014,     0.49076,     0.48138,     0.47826,     0.47826,     0.47826,     0.47826,     0.47826,     0.47826,     0.47826,     0.47826,     0.47826,     0.47826,     0.47826,     0.47826,     0.47826,     0.47826,\n",
       "            0.47826,     0.47826,     0.47826,     0.47826,     0.47826,     0.47826,     0.47826,     0.47826,     0.47826,     0.47826,     0.47826,     0.47826,     0.47826,     0.47826,     0.47826,     0.47826,     0.47826,     0.47826,     0.47826,     0.47826,     0.47826,     0.47826,     0.47826,\n",
       "            0.47826,     0.47826,     0.47826,     0.47826,     0.47826,     0.47826,     0.47826,     0.47826,     0.47826,     0.47826,     0.47826,     0.47826,     0.47826,     0.47826,     0.47826,     0.47826,     0.47826,     0.47826,     0.47826,     0.47826,     0.47826,     0.47826,     0.47826,\n",
       "            0.47826,     0.47826,     0.47826,     0.47826,     0.47826,     0.47826,     0.47826,     0.47826,     0.47826,     0.47826,     0.47826,     0.47826,     0.47826,     0.47826,     0.47826,     0.47826,     0.47826,     0.47826,     0.47826,     0.47826,     0.47826,     0.47826,     0.47826,\n",
       "            0.47826,     0.47826,     0.47826,     0.47826,     0.47826,     0.47826,     0.47826,     0.47826,     0.47826,     0.47826,     0.47826,     0.47826,     0.47826,     0.47826,     0.47826,     0.47826,     0.47826,     0.47826,     0.47826,     0.47826,     0.47826,     0.47826,     0.47826,\n",
       "            0.47826,     0.47826,     0.47826,     0.47826,     0.47826,     0.47826,     0.47826,     0.47826,     0.47826,     0.47826,     0.47826,     0.47826,     0.47826,     0.47826,     0.47826,     0.47826,     0.47826,     0.47826,     0.47826,     0.47826,     0.47826,     0.47826,     0.47826,\n",
       "            0.47826,     0.47826,     0.47826,     0.47826,     0.47826,     0.47826,     0.47826,     0.47826,     0.47826,     0.47826,     0.47826,     0.47826,     0.47826,     0.47826,     0.47826,     0.47826,     0.47826,     0.47826,     0.47826,     0.47826,     0.47826,     0.47826,     0.47826,\n",
       "            0.47826,     0.47826,     0.47826,     0.47826,     0.47826,     0.47826,     0.47826,     0.47826,     0.47826,     0.47826,     0.47826,     0.47826,     0.47826,     0.47826,     0.47826,     0.47826,     0.47826,     0.47826,     0.47826,     0.47826,     0.47826,     0.47826,     0.47826,\n",
       "            0.47826,     0.47826,     0.47826,     0.47826,     0.47826,     0.47826,     0.47826,     0.47826,     0.47826,     0.47826,     0.47826,     0.47826,     0.47826,     0.47826,     0.47826,     0.47826,     0.47826,     0.47826,     0.47826,     0.47826,     0.47826,     0.47826,     0.47826,\n",
       "            0.47826,     0.47826,     0.47826,     0.47826,     0.47826,     0.47826,     0.47826,     0.47826,     0.47826,     0.47826,     0.47826,     0.47826,     0.47826,     0.47826,     0.47826,     0.47826,     0.47826,     0.47826,     0.47826,     0.47826,     0.47826,     0.47826,     0.47826,\n",
       "            0.47826,     0.47826,     0.47826,     0.47826,     0.47826,     0.47826,     0.47826,     0.47826,     0.47826,     0.47826,     0.47826,     0.47826,     0.47826,     0.47826,     0.47826,     0.47826,     0.47826,     0.47826,     0.47826,     0.47826,     0.47826,     0.47826,     0.47826,\n",
       "            0.47826,     0.47826,     0.47826,     0.47826,     0.47826,     0.47826,     0.47826,     0.47826,     0.47826,     0.47826,     0.47826,     0.47826,     0.47826,     0.47826,     0.47826,     0.47826,     0.47826,     0.47826,     0.47826,     0.47826,     0.47826,     0.47826,     0.47826,\n",
       "            0.47826,     0.47826,     0.47826,     0.47826,     0.47826,     0.47826,     0.47826,     0.47826,     0.47826,     0.47826,     0.47826,     0.47826,     0.47826,     0.47826,     0.47826,     0.47826,     0.47826,     0.47826,     0.47826,     0.47826,     0.47826,     0.47826,     0.47826,\n",
       "            0.47826,     0.47826,     0.47826,     0.47826,     0.47826,     0.47826,     0.47826,     0.47826,     0.47826,     0.47826,     0.47826,     0.47826,     0.47826,     0.47826,     0.47826,     0.47826,     0.47826,     0.47826,     0.47826,     0.47826,     0.47826,     0.47826,     0.47826,\n",
       "            0.47826,     0.47826,     0.47826,     0.47826,     0.47826,     0.47826,     0.47826,     0.47826,     0.47826,     0.47826,     0.47826,     0.47826,     0.47826,     0.47826,     0.47826,     0.47826,     0.47826,     0.47826,     0.47826,     0.47826,     0.47826,     0.47826,     0.47826,\n",
       "            0.47826,     0.47826,     0.47826,     0.47826,     0.47826,     0.47826,     0.47826,     0.47826,     0.47826,     0.47826,     0.47826,     0.47826,     0.47826,     0.47826,     0.47826,     0.47826,     0.47826,     0.47826,     0.47826,     0.47826,     0.47826,     0.47826,     0.47826,\n",
       "            0.47826,     0.47826,     0.47826,     0.47826,     0.47826,     0.47826,     0.47826,     0.47826,     0.47826,     0.47826,     0.47826,     0.47826,     0.47826,     0.47826,     0.47826,     0.47826,     0.47826,     0.47826,     0.47826,     0.47826,     0.47826,     0.47826,     0.47826,\n",
       "            0.47826,     0.47826,     0.47826,     0.47826,     0.47826,     0.47826,     0.47826,     0.47826,     0.47826,     0.47826,     0.47826,     0.47826,     0.47826,     0.47826,     0.47826,     0.47826,     0.47826,     0.47826,     0.47826,     0.47826,     0.47826,     0.47826,     0.47826,\n",
       "            0.47826,     0.47826,     0.47826,     0.47826,     0.47826,     0.47826,     0.47826,     0.47826,     0.47826,     0.47826,     0.47826,     0.47826,     0.47826,     0.47826,     0.47826,     0.47826,     0.47826,     0.47826,     0.47826,     0.47826,     0.47826,     0.47826,     0.47826,\n",
       "            0.47826,     0.47826,     0.47826,     0.47826,     0.47826,     0.47826,     0.47826,     0.47826,     0.47826,     0.47826,     0.47826,     0.47826,     0.47826,     0.47826,     0.47826,     0.47826,     0.47826,     0.47826,     0.47826,     0.47826,     0.47826,     0.47826,     0.47826,\n",
       "            0.47826,     0.47826,     0.47826,     0.47789,      0.4766,      0.4753,     0.47401,     0.47272,     0.47143,     0.47014,     0.46885,     0.46755,     0.46626,     0.46497,     0.46368,     0.46239,     0.46109,      0.4598,     0.45851,     0.45722,     0.45593,     0.45464,     0.45334,\n",
       "            0.45205,     0.45076,     0.44947,     0.44818,     0.44689,     0.44559,      0.4443,     0.44301,     0.44172,     0.44043,     0.43913,     0.43784,     0.43655,     0.43526,     0.43478,     0.43478,     0.43478,     0.43478,     0.43478,     0.43478,     0.43478,     0.43478,     0.43478,\n",
       "            0.43478,     0.43478,     0.43478,     0.43478,     0.43478,     0.43478,     0.43478,     0.43478,     0.43478,     0.43478,     0.43478,     0.43478,     0.43478,     0.43478,     0.43478,     0.43478,     0.43478,     0.43478,     0.43478,     0.43478,     0.43478,     0.43478,     0.43478,\n",
       "            0.43478,     0.43478,     0.43478,     0.43478,     0.43478,     0.43478,     0.43478,     0.43478,     0.43478,     0.43478,     0.43478,     0.43478,     0.43478,     0.43478,     0.43478,     0.43478,     0.43478,     0.43478,     0.43478,     0.43478,     0.43478,     0.43478,     0.43478,\n",
       "            0.43478,     0.43478,     0.43478,     0.43478,     0.43478,     0.43478,     0.43478,     0.43478,     0.43478,     0.43478,     0.43478,     0.43478,     0.43404,      0.4317,     0.42935,     0.42701,     0.42466,     0.42231,     0.41997,     0.41762,     0.41528,     0.41293,     0.41059,\n",
       "            0.40824,      0.4059,     0.40355,      0.4012,     0.39886,     0.39651,     0.39417,     0.39182,     0.38499,     0.37689,     0.36878,     0.36068,     0.35258,     0.34373,     0.33383,     0.32392,     0.31402,      0.3043,     0.30232,     0.30034,     0.29836,     0.29638,      0.2944,\n",
       "            0.29242,     0.29044,     0.28846,     0.28647,     0.28449,     0.28251,     0.28053,     0.27855,     0.27657,     0.27459,     0.27261,     0.27063,     0.26865,     0.26667,     0.26469,     0.26271,     0.25957,     0.24175,     0.22392,     0.21111,     0.20121,     0.19131,      0.1814,\n",
       "            0.17277,     0.16808,     0.16339,      0.1587,     0.15401,     0.14931,     0.14462,     0.13993,     0.13524,     0.13055,    0.043478]]), 'Confidence', 'Recall']]\n",
       "fitness: 0.2786108197026598\n",
       "keys: ['metrics/precision(B)', 'metrics/recall(B)', 'metrics/mAP50(B)', 'metrics/mAP50-95(B)']\n",
       "maps: array([    0.25175,     0.25175])\n",
       "names: {0: 'fire', 1: 'smoke'}\n",
       "plot: True\n",
       "results_dict: {'metrics/precision(B)': 0.7991860203398665, 'metrics/recall(B)': 0.4782608695652174, 'metrics/mAP50(B)': 0.5203339821900215, 'metrics/mAP50-95(B)': 0.25175269053739735, 'fitness': 0.2786108197026598}\n",
       "save_dir: PosixPath('runs/detect/train3')\n",
       "speed: {'preprocess': 0.20465974999979153, 'inference': 9.962217849999888, 'loss': 0.0009172999966722273, 'postprocess': 1.0565810499997497}\n",
       "task: 'detect'"
      ]
     },
     "execution_count": 3,
     "metadata": {},
     "output_type": "execute_result"
    }
   ],
   "source": [
    "\n",
    "# Import required libraries\n",
    "import torch\n",
    "from ultralytics import YOLO\n",
    "\n",
    "# Check if GPU is available\n",
    "device = \"cuda\" if torch.cuda.is_available() else \"cpu\"\n",
    "print(f\"Using device: {device}\")\n",
    "\n",
    "# Load the YOLOv8 model (medium version for better accuracy)\n",
    "model = YOLO(\"yolov8m.pt\")\n",
    "\n",
    "# Define training parameters\n",
    "train_params = {\n",
    "    \"data\": \"/content/drive/MyDrive/cv_fir_smk/dataset/data.yaml\",  # Dataset path\n",
    "    \"epochs\": 10,  # Increase epochs for better accuracy\n",
    "    \"imgsz\": 640,  # Image size\n",
    "    \"batch\": 16,  # Adjust batch size based on GPU memory\n",
    "    \"device\": device,  # Auto-detect GPU/CPU\n",
    "    \"optimizer\": \"AdamW\",  # Better optimizer than default SGD\n",
    "    \"lr0\": 0.001,  # Initial learning rate\n",
    "    \"lrf\": 0.1,  # Final learning rate\n",
    "    \"momentum\": 0.9,  # Momentum for optimizer\n",
    "    \"weight_decay\": 0.0005,  # Regularization for better generalization\n",
    "    \"degrees\": 10,  # Data augmentation: rotation (±10°)\n",
    "    \"translate\": 0.1,  # Data augmentation: translation\n",
    "    \"scale\": 0.5,  # Data augmentation: scaling\n",
    "    \"shear\": 10,  # Data augmentation: shearing\n",
    "    \"hsv_h\": 0.015,  # HSV augmentation (hue)\n",
    "    \"hsv_s\": 0.7,  # HSV augmentation (saturation)\n",
    "    \"hsv_v\": 0.4,  # HSV augmentation (value)\n",
    "    \"patience\": 20,  # Early stopping if no improvement\n",
    "    \"cache\": True,  # Cache dataset for faster training\n",
    "    \"workers\": 4,  # Number of dataloader workers\n",
    "}\n",
    "\n",
    "# Train the model\n",
    "model.train(**train_params)\n"
   ]
  }
 ],
 "metadata": {
  "accelerator": "GPU",
  "colab": {
   "authorship_tag": "ABX9TyNYrIaRmUZ+f5kH8w/OW8yZ",
   "gpuType": "T4",
   "provenance": []
  },
  "kernelspec": {
   "display_name": "Python 3",
   "name": "python3"
  },
  "language_info": {
   "name": "python"
  }
 },
 "nbformat": 4,
 "nbformat_minor": 0
}
